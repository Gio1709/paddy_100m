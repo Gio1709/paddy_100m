{
  "nbformat": 4,
  "nbformat_minor": 0,
  "metadata": {
    "colab": {
      "name": "Untitled5.ipynb",
      "provenance": [],
      "include_colab_link": true
    },
    "kernelspec": {
      "name": "python3",
      "display_name": "Python 3"
    }
  },
  "cells": [
    {
      "cell_type": "markdown",
      "metadata": {
        "id": "view-in-github",
        "colab_type": "text"
      },
      "source": [
        "<a href=\"https://colab.research.google.com/github/Gio1709/paddy_100m/blob/master/Improve%20graphic%20precission%20and%20F1%20score%20bukan%20sawah.ipynb\" target=\"_parent\"><img src=\"https://colab.research.google.com/assets/colab-badge.svg\" alt=\"Open In Colab\"/></a>"
      ]
    },
    {
      "cell_type": "code",
      "metadata": {
        "id": "8LGwTCobxiCV",
        "colab_type": "code",
        "outputId": "ec7c41ca-0591-4d5f-b2ad-54e2a3429cdf",
        "colab": {
          "base_uri": "https://localhost:8080/",
          "height": 421
        }
      },
      "source": [
        "import matplotlib.pyplot as plt\n",
        "import decimal\n",
        "\n",
        "data = {'Jawa': 0.833, 'Kalimantan': 0.833, 'Sumatra': 1}\n",
        "names = list(data.keys())\n",
        "values = list(data.values())\n",
        "\n",
        "fig, ax = plt.subplots(1, 1, figsize=(6, 6), sharey=True)\n",
        "ax.bar(names, values)\n",
        "\n",
        "plt.title('Precision Bukan Sawah')\n",
        "plt.xlabel('Site')\n",
        "plt.ylabel('Precision')\n",
        "\n",
        "print(\"Presisi Bukan Sawah pada Ketinggian 100m dengan Arsitektur LeNet-5 Modif\")"
      ],
      "execution_count": 10,
      "outputs": [
        {
          "output_type": "stream",
          "text": [
            "Presisi Bukan Sawah pada Ketinggian 100m dengan Arsitektur LeNet-5 Modif\n"
          ],
          "name": "stdout"
        },
        {
          "output_type": "display_data",
          "data": {
            "image/png": "[encoded data removed]",
            "text/plain": [
              "<Figure size 432x432 with 1 Axes>"
            ]
          },
          "metadata": {
            "tags": []
          }
        }
      ]
    },
    {
      "cell_type": "code",
      "metadata": {
        "id": "cD6qKieU9QjE",
        "colab_type": "code",
        "colab": {
          "base_uri": "https://localhost:8080/",
          "height": 421
        },
        "outputId": "a91d1179-1504-420b-984b-7d7123574034"
      },
      "source": [
        "import matplotlib.pyplot as plt\n",
        "import decimal\n",
        "\n",
        "data = {'Jawa': 0.908, 'Kalimantan': 0.908, 'Sumatra': 0.947}\n",
        "names = list(data.keys())\n",
        "values = list(data.values())\n",
        "\n",
        "fig, ax = plt.subplots(1, 1, figsize=(6, 6), sharey=True)\n",
        "ax.bar(names, values)\n",
        "\n",
        "plt.title('F1 Bukan Sawah')\n",
        "plt.xlabel('Site')\n",
        "plt.ylabel('F1')\n",
        "\n",
        "print(\"F1 Score Bukan Sawah pada Ketinggian 100m dengan Arsitektur LeNet-5 Modif\")"
      ],
      "execution_count": 13,
      "outputs": [
        {
          "output_type": "stream",
          "text": [
            "F1 Score Bukan Sawah pada Ketinggian 100m dengan Arsitektur LeNet-5 Modif\n"
          ],
          "name": "stdout"
        },
        {
          "output_type": "display_data",
          "data": {
            "image/png": "[encoded data removed]",
            "text/plain": [
              "<Figure size 432x432 with 1 Axes>"
            ]
          },
          "metadata": {
            "tags": []
          }
        }
      ]
    },
    {
      "cell_type": "code",
      "metadata": {
        "id": "47RWsOnt9ScV",
        "colab_type": "code",
        "colab": {
          "base_uri": "https://localhost:8080/",
          "height": 421
        },
        "outputId": "a5a8164a-cb20-4992-bcaf-af093221e5d4"
      },
      "source": [
        "import matplotlib.pyplot as plt\n",
        "import decimal\n",
        "\n",
        "data = {'Jawa': 0.909, 'Kalimantan': 1, 'Sumatra': 1}\n",
        "names = list(data.keys())\n",
        "values = list(data.values())\n",
        "\n",
        "fig, ax = plt.subplots(1, 1, figsize=(6, 6), sharey=True)\n",
        "ax.bar(names, values)\n",
        "\n",
        "plt.title('Precision Bukan Sawah')\n",
        "plt.xlabel('Site')\n",
        "plt.ylabel('Precision')\n",
        "\n",
        "print(\"Presisi Bukan Sawah pada Ketinggian 300m dengan Arsitektur LeNet-5 Modif\")"
      ],
      "execution_count": 14,
      "outputs": [
        {
          "output_type": "stream",
          "text": [
            "Presisi Bukan Sawah pada Ketinggian 300m dengan Arsitektur LeNet-5 Modif\n"
          ],
          "name": "stdout"
        },
        {
          "output_type": "display_data",
          "data": {
            "image/png": "[encoded data removed]",
            "text/plain": [
              "<Figure size 432x432 with 1 Axes>"
            ]
          },
          "metadata": {
            "tags": []
          }
        }
      ]
    },
    {
      "cell_type": "code",
      "metadata": {
        "id": "269gC0fX9S-d",
        "colab_type": "code",
        "colab": {
          "base_uri": "https://localhost:8080/",
          "height": 421
        },
        "outputId": "f85d69a6-a3fa-4c30-8f1d-03b92241f318"
      },
      "source": [
        "import matplotlib.pyplot as plt\n",
        "import decimal\n",
        "\n",
        "data = {'Jawa': 0.952, 'Kalimantan': 0.888, 'Sumatra': 0.888}\n",
        "names = list(data.keys())\n",
        "values = list(data.values())\n",
        "\n",
        "fig, ax = plt.subplots(1, 1, figsize=(6, 6), sharey=True)\n",
        "ax.bar(names, values)\n",
        "\n",
        "plt.title('F1 Bukan Sawah')\n",
        "plt.xlabel('Site')\n",
        "plt.ylabel('F1')\n",
        "\n",
        "print(\"F1 Score Bukan Sawah pada Ketinggian 300m dengan Arsitektur LeNet-5 Modif\")"
      ],
      "execution_count": 15,
      "outputs": [
        {
          "output_type": "stream",
          "text": [
            "F1 Score Bukan Sawah pada Ketinggian 300m dengan Arsitektur LeNet-5 Modif\n"
          ],
          "name": "stdout"
        },
        {
          "output_type": "display_data",
          "data": {
            "image/png": "[encoded data removed]",
            "text/plain": [
              "<Figure size 432x432 with 1 Axes>"
            ]
          },
          "metadata": {
            "tags": []
          }
        }
      ]
    },
    {
      "cell_type": "code",
      "metadata": {
        "id": "Tcp3G8Qp9bcm",
        "colab_type": "code",
        "colab": {
          "base_uri": "https://localhost:8080/",
          "height": 421
        },
        "outputId": "ee38dd78-3e82-4c02-fdf3-b7074cc294bd"
      },
      "source": [
        "import matplotlib.pyplot as plt\n",
        "import decimal\n",
        "\n",
        "data = {'Jawa': 0.909, 'Kalimantan': 0.769, 'Sumatra': 1}\n",
        "names = list(data.keys())\n",
        "values = list(data.values())\n",
        "\n",
        "fig, ax = plt.subplots(1, 1, figsize=(6, 6), sharey=True)\n",
        "ax.bar(names, values)\n",
        "\n",
        "plt.title('Precision Bukan Sawah')\n",
        "plt.xlabel('Site')\n",
        "plt.ylabel('Precision')\n",
        "\n",
        "print(\"Presisi Bukan Sawah pada Ketinggian 100m dengan Arsitektur VGG-16Net\")"
      ],
      "execution_count": 6,
      "outputs": [
        {
          "output_type": "stream",
          "text": [
            "Presisi Bukan Sawah pada Ketinggian 100m dengan Arsitektur VGG-16Net\n"
          ],
          "name": "stdout"
        },
        {
          "output_type": "display_data",
          "data": {
            "image/png": "[encoded data removed]",
            "text/plain": [
              "<Figure size 432x432 with 1 Axes>"
            ]
          },
          "metadata": {
            "tags": []
          }
        }
      ]
    },
    {
      "cell_type": "code",
      "metadata": {
        "id": "pwzjune79gbo",
        "colab_type": "code",
        "colab": {
          "base_uri": "https://localhost:8080/",
          "height": 421
        },
        "outputId": "41a9ad95-5204-4cd6-8044-0ceaabe75cc2"
      },
      "source": [
        "import matplotlib.pyplot as plt\n",
        "import decimal\n",
        "\n",
        "data = {'Jawa': 0.952, 'Kalimantan': 0.869, 'Sumatra': 0.9}\n",
        "names = list(data.keys())\n",
        "values = list(data.values())\n",
        "\n",
        "fig, ax = plt.subplots(1, 1, figsize=(6, 6), sharey=True)\n",
        "ax.bar(names, values)\n",
        "\n",
        "plt.title('F1 Bukan Sawah')\n",
        "plt.xlabel('Site')\n",
        "plt.ylabel('F1')\n",
        "\n",
        "print(\"F1 Score Bukan Sawah pada Ketinggian 100m dengan Arsitektur VGG-16Net\")"
      ],
      "execution_count": 16,
      "outputs": [
        {
          "output_type": "stream",
          "text": [
            "F1 Score Bukan Sawah pada Ketinggian 100m dengan Arsitektur VGG-16Net\n"
          ],
          "name": "stdout"
        },
        {
          "output_type": "display_data",
          "data": {
            "image/png": "[encoded data removed]",
            "text/plain": [
              "<Figure size 432x432 with 1 Axes>"
            ]
          },
          "metadata": {
            "tags": []
          }
        }
      ]
    },
    {
      "cell_type": "code",
      "metadata": {
        "id": "zD75dLgi9nbm",
        "colab_type": "code",
        "colab": {
          "base_uri": "https://localhost:8080/",
          "height": 421
        },
        "outputId": "44d20cb4-fcef-4201-ed78-560c3aa39a82"
      },
      "source": [
        "import matplotlib.pyplot as plt\n",
        "import decimal\n",
        "\n",
        "data = {'Jawa': 0.833, 'Kalimantan': 0.818, 'Sumatra': 1}\n",
        "names = list(data.keys())\n",
        "values = list(data.values())\n",
        "\n",
        "fig, ax = plt.subplots(1, 1, figsize=(6, 6), sharey=True)\n",
        "ax.bar(names, values)\n",
        "\n",
        "plt.title('Precision Bukan Sawah')\n",
        "plt.xlabel('Site')\n",
        "plt.ylabel('Precision')\n",
        "\n",
        "print(\"Presisi Bukan Sawah pada Ketinggian 300m dengan Arsitektur VGG-16Net\")"
      ],
      "execution_count": 8,
      "outputs": [
        {
          "output_type": "stream",
          "text": [
            "Presisi Bukan Sawah pada Ketinggian 300m dengan Arsitektur VGG-16Net\n"
          ],
          "name": "stdout"
        },
        {
          "output_type": "display_data",
          "data": {
            "image/png": "[encoded data removed]",
            "text/plain": [
              "<Figure size 432x432 with 1 Axes>"
            ]
          },
          "metadata": {
            "tags": []
          }
        }
      ]
    },
    {
      "cell_type": "code",
      "metadata": {
        "id": "3Qe7BV9D9o1_",
        "colab_type": "code",
        "colab": {
          "base_uri": "https://localhost:8080/",
          "height": 421
        },
        "outputId": "8f891bec-bebd-4bdd-c888-0d96e6613620"
      },
      "source": [
        "import matplotlib.pyplot as plt\n",
        "import decimal\n",
        "\n",
        "data = {'Jawa': 1, 'Kalimantan': 0.857, 'Sumatra': 0.9}\n",
        "names = list(data.keys())\n",
        "values = list(data.values())\n",
        "\n",
        "fig, ax = plt.subplots(1, 1, figsize=(6, 6), sharey=True)\n",
        "ax.bar(names, values)\n",
        "\n",
        "plt.title('F1 Bukan Sawah')\n",
        "plt.xlabel('Site')\n",
        "plt.ylabel('F1')\n",
        "\n",
        "print(\"F1 Score Bukan Sawah pada Ketinggian 300m dengan Arsitektur VGG-16Net\")"
      ],
      "execution_count": 17,
      "outputs": [
        {
          "output_type": "stream",
          "text": [
            "F1 Score Bukan Sawah pada Ketinggian 300m dengan Arsitektur VGG-16Net\n"
          ],
          "name": "stdout"
        },
        {
          "output_type": "display_data",
          "data": {
            "image/png": "[encoded data removed]",
            "text/plain": [
              "<Figure size 432x432 with 1 Axes>"
            ]
          },
          "metadata": {
            "tags": []
          }
        }
      ]
    }
  ]
}