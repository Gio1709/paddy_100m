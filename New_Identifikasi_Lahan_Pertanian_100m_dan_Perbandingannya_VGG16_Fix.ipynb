{
  "nbformat": 4,
  "nbformat_minor": 0,
  "metadata": {
    "colab": {
      "name": "Copy of bamboo_forest_detection.ipynb",
      "provenance": [],
      "collapsed_sections": [],
      "toc_visible": true,
      "machine_shape": "hm",
      "include_colab_link": true
    },
    "kernelspec": {
      "name": "python3",
      "display_name": "Python 3"
    },
    "accelerator": "GPU"
  },
  "cells": [
    {
      "cell_type": "markdown",
      "metadata": {
        "id": "view-in-github",
        "colab_type": "text"
      },
      "source": [
        "<a href=\"https://colab.research.google.com/github/Gio1709/paddy_100m/blob/master/New_Identifikasi_Lahan_Pertanian_100m_dan_Perbandingannya_VGG16_Fix.ipynb\" target=\"_parent\"><img src=\"https://colab.research.google.com/assets/colab-badge.svg\" alt=\"Open In Colab\"/></a>"
      ]
    },
    {
      "cell_type": "markdown",
      "metadata": {
        "id": "brOcgtydMQzx",
        "colab_type": "text"
      },
      "source": [
        "# **IDENTIFIKASI VEGETASI OTOMATIS DENGAN GAMBAR GOOGLE EARTH MENGGUNAKAN CONVOLUTIONAL NEURAL NETWORK**"
      ]
    },
    {
      "cell_type": "markdown",
      "metadata": {
        "id": "yH5iC3HNIUTK",
        "colab_type": "text"
      },
      "source": [
        "# Preferensi"
      ]
    },
    {
      "cell_type": "markdown",
      "metadata": {
        "id": "qCmucczWMUQX",
        "colab_type": "text"
      },
      "source": [
        "Penelitian Sebelumnya :\n",
        "**Metode Convolutional Neural Network pada Gambar Google Earth Hutan Bambu di Jepang dengan .** \n",
        "\n",
        "*Shuntaro Watanabe, Kazuaki Sumi, Takeshi Ise*\n",
        "\n",
        "link sebagai berikut : https://doi.org/10.1101/351643"
      ]
    },
    {
      "cell_type": "markdown",
      "metadata": {
        "id": "tGAeIgbCHHOy",
        "colab_type": "text"
      },
      "source": [
        "**Note**\n",
        "\n",
        "Penelitian ini mengambil konsep dari peneliti asal Jepang yang mengidentifikasikan vegatasi akurasi tinggi lahan hutan bamboo di beberapa wilayah Jepang, dengan klasisfikasi CNN, dan dilakukan dengan metode chopped-image.\n",
        "\n",
        "Sedangkan pada penelitian ini memiliki konsep yang serupa dengan penelitian sebelumnya, akan tetapi mengambil sampel yang dilakukan lahan persawahan di Kabupaten Banyumas. \n",
        "\n",
        "Peneliti : Fendy Prayogi\n",
        "\n",
        "Repositori tersedia pada : https://github.com/Gio1709/paddy\n"
      ]
    },
    {
      "cell_type": "markdown",
      "metadata": {
        "id": "zvIHPsgOTYjR",
        "colab_type": "text"
      },
      "source": [
        "# Mengimpor/Mengambil Fungsi Library"
      ]
    },
    {
      "cell_type": "code",
      "metadata": {
        "id": "LuuilDHsTkGE",
        "colab_type": "code",
        "outputId": "f647b838-192f-4cef-b1c8-9de53e88d06d",
        "colab": {
          "base_uri": "https://localhost:8080/",
          "height": 219
        }
      },
      "source": [
        "!pip install slidingwindow\n",
        "import slidingwindow as sw\n",
        "import numpy as np\n",
        "import os\n",
        "import keras.backend as K\n",
        "import keras\n",
        "import pandas as pd\n",
        "from keras.models import Sequential\n",
        "from keras import layers\n",
        "from keras.preprocessing.image import load_img, img_to_array\n",
        "import matplotlib.pyplot as plt\n",
        "from skimage.io import imread, imsave\n",
        "from skimage.transform import resize\n",
        "from sklearn.utils.class_weight import compute_class_weight\n",
        "\n",
        "from sklearn import svm, datasets\n",
        "from sklearn.model_selection import train_test_split\n",
        "from sklearn.metrics import confusion_matrix\n",
        "from sklearn.utils.multiclass import unique_labels\n",
        "\n"
      ],
      "execution_count": 1,
      "outputs": [
        {
          "output_type": "stream",
          "text": [
            "Collecting slidingwindow\n",
            "  Downloading https://files.pythonhosted.org/packages/3d/15/a2a2dc82fe9fa9699062b24e84e2cd2620f4ac0e2089d24eb8d0de0ce7ec/slidingwindow-0.0.13-py2.py3-none-any.whl\n",
            "Requirement already satisfied: psutil in /usr/local/lib/python3.6/dist-packages (from slidingwindow) (5.4.8)\n",
            "Requirement already satisfied: numpy in /usr/local/lib/python3.6/dist-packages (from slidingwindow) (1.17.5)\n",
            "Installing collected packages: slidingwindow\n",
            "Successfully installed slidingwindow-0.0.13\n"
          ],
          "name": "stdout"
        },
        {
          "output_type": "stream",
          "text": [
            "Using TensorFlow backend.\n"
          ],
          "name": "stderr"
        },
        {
          "output_type": "display_data",
          "data": {
            "text/html": [
              "<p style=\"color: red;\">\n",
              "The default version of TensorFlow in Colab will soon switch to TensorFlow 2.x.<br>\n",
              "We recommend you <a href=\"https://www.tensorflow.org/guide/migrate\" target=\"_blank\">upgrade</a> now \n",
              "or ensure your notebook will continue to use TensorFlow 1.x via the <code>%tensorflow_version 1.x</code> magic:\n",
              "<a href=\"https://colab.research.google.com/notebooks/tensorflow_version.ipynb\" target=\"_blank\">more info</a>.</p>\n"
            ],
            "text/plain": [
              "<IPython.core.display.HTML object>"
            ]
          },
          "metadata": {
            "tags": []
          }
        }
      ]
    },
    {
      "cell_type": "markdown",
      "metadata": {
        "id": "vrjdy-qqOJIX",
        "colab_type": "text"
      },
      "source": [
        "# Mengambil Dataset dari Github"
      ]
    },
    {
      "cell_type": "code",
      "metadata": {
        "id": "B2bgqt_hMVum",
        "colab_type": "code",
        "colab": {}
      },
      "source": [
        "# Mengambil dataset dari github\n",
        "\n",
        "#!apt-get install subversion > /dev/null\n",
        "#!svn export https://github.com/Gio1709/paddy/trunk/data > /dev/null \n",
        "\n",
        "#!apt-get install subversion > /dev/null\n",
        "#!svn export https://github.com/Gio1709/paddy_100/trunk/data > /dev/null \n",
        "\n",
        "#!apt-get install subversion > /dev/null\n",
        "#!svn export https://github.com/Gio1709/paddy_300/trunk/data > /dev/null \n",
        "\n",
        "#!apt-get install subversion > /dev/null\n",
        "#!svn export https://github.com/Gio1709/paddy-coba/trunk/data/ > /dev/null \n",
        "\n",
        "#!apt-get install subversion > /dev/null\n",
        "#!svn export https://github.com/Gio1709/paddy_100m_new/trunk/data/ > /dev/null \n",
        "\n",
        "!apt-get install subversion > /dev/null\n",
        "!svn export https://github.com/Gio1709/paddy_100m/trunk/data/ > /dev/null \n",
        "\n",
        "#!apt-get install subversion > /dev/null\n",
        "#!svn export https://github.com/Gio1709/paddy_300m/trunk/data/ > /dev/null \n",
        "\n",
        "#!apt-get install subversion > /dev/null\n",
        "#!svn export https://github.com/Gio1709/paddy_300m_new/trunk/data/ > /dev/null \n",
        "\n",
        "#!wget https://raw.githubusercontent.com/Gio1709/paddy/master/paddy.zip paddy.zip\n",
        "#!unzip -P paddy paddy.zip\n"
      ],
      "execution_count": 0,
      "outputs": []
    },
    {
      "cell_type": "markdown",
      "metadata": {
        "id": "3wXinCI5H_55",
        "colab_type": "text"
      },
      "source": [
        "**Persiapan :**\n",
        "\n",
        "*Program ini dibuat untuk mengidentifikasi lahan sawah dan luas di Kabupaten Banyumas*\n",
        "\n",
        "File tersimpan dalam folder :\n",
        "1. */chopped*\n",
        "2. */train*\n",
        "3. */test* "
      ]
    },
    {
      "cell_type": "markdown",
      "metadata": {
        "id": "9_c6x5rQW43a",
        "colab_type": "text"
      },
      "source": [
        "# Mengimpor Datasheet"
      ]
    },
    {
      "cell_type": "code",
      "metadata": {
        "id": "P3AD0x3_Sqjr",
        "colab_type": "code",
        "outputId": "f279fc95-4401-44a4-c591-b27934a03854",
        "colab": {
          "base_uri": "https://localhost:8080/",
          "height": 340
        }
      },
      "source": [
        "#Perintah untuk melihat list bagian dari file yang sudah diunduh dari Github\n",
        "\n",
        "!ls data/paddy/train\n",
        "#gambar dengan nama awalan dengan \"b\" adalah gambar yang terdapat padi\"\n",
        "#gambar dengan nama awalan dengan \"o\" adalah gambar yang tidak terdapat padi\""
      ],
      "execution_count": 3,
      "outputs": [
        {
          "output_type": "stream",
          "text": [
            "b100.jpg  b119.jpg  b63.jpg  b82.jpg   o101.jpg  o120.jpg  o64.jpg  o83.jpg\n",
            "b101.jpg  b120.jpg  b64.jpg  b83.jpg   o102.jpg  o121.jpg  o65.jpg  o84.jpg\n",
            "b102.jpg  b121.jpg  b65.jpg  b84.jpg   o103.jpg  o122.jpg  o66.jpg  o85.jpg\n",
            "b103.jpg  b122.jpg  b66.jpg  b85.jpg   o104.jpg  o123.jpg  o67.jpg  o86.jpg\n",
            "b104.jpg  b123.jpg  b67.jpg  b86.jpg   o105.jpg  o124.jpg  o68.jpg  o87.jpg\n",
            "b105.jpg  b124.jpg  b68.jpg  b87.jpg   o106.jpg  o125.jpg  o69.jpg  o88.jpg\n",
            "b106.jpg  b125.jpg  b69.jpg  b88.jpg   o107.jpg  o51.jpg   o70.jpg  o89.jpg\n",
            "b107.jpg  b51.jpg   b70.jpg  b89.jpg   o108.jpg  o52.jpg   o71.jpg  o90.jpg\n",
            "b108.jpg  b52.jpg   b71.jpg  b90.jpg   o109.jpg  o53.jpg   o72.jpg  o91.jpg\n",
            "b109.jpg  b53.jpg   b72.jpg  b91.jpg   o110.jpg  o54.jpg   o73.jpg  o92.jpg\n",
            "b110.jpg  b54.jpg   b73.jpg  b92.jpg   o111.jpg  o55.jpg   o74.jpg  o93.jpg\n",
            "b111.jpg  b55.jpg   b74.jpg  b93.jpg   o112.jpg  o56.jpg   o75.jpg  o94.jpg\n",
            "b112.jpg  b56.jpg   b75.jpg  b94.jpg   o113.jpg  o57.jpg   o76.jpg  o95.jpg\n",
            "b113.jpg  b57.jpg   b76.jpg  b95.jpg   o114.jpg  o58.jpg   o77.jpg  o96.jpg\n",
            "b114.jpg  b58.jpg   b77.jpg  b96.jpg   o115.jpg  o59.jpg   o78.jpg  o97.jpg\n",
            "b115.jpg  b59.jpg   b78.jpg  b97.jpg   o116.jpg  o60.jpg   o79.jpg  o98.jpg\n",
            "b116.jpg  b60.jpg   b79.jpg  b98.jpg   o117.jpg  o61.jpg   o80.jpg  o99.jpg\n",
            "b117.jpg  b61.jpg   b80.jpg  b99.jpg   o118.jpg  o62.jpg   o81.jpg\n",
            "b118.jpg  b62.jpg   b81.jpg  o100.jpg  o119.jpg  o63.jpg   o82.jpg\n"
          ],
          "name": "stdout"
        }
      ]
    },
    {
      "cell_type": "markdown",
      "metadata": {
        "id": "uzIfxixnI4Qr",
        "colab_type": "text"
      },
      "source": [
        "#Menampilkan Gambar Pelatihan"
      ]
    },
    {
      "cell_type": "code",
      "metadata": {
        "id": "Y9T4sqwAI5P8",
        "colab_type": "code",
        "outputId": "6e2bb990-0f4e-416d-dd93-d3f8ecd87018",
        "colab": {
          "base_uri": "https://localhost:8080/",
          "height": 491
        }
      },
      "source": [
        "#Gambar yang terdapat lahan sawah padi\n",
        "plt.title(\"Gambar yang terdapat lahan sawah padi\")\n",
        "plt.imshow(imread(\"data/paddy/train/b58.jpg\"))\n",
        "plt.show()\n",
        "\n",
        "#Gambar yang terdapat tidak lahan sawah padi\n",
        "plt.title(\"Gambar yang tidak terdapat lahan sawah padi\")\n",
        "plt.imshow(imread(\"data/paddy/train/o125.jpg\"))\n",
        "plt.show()\n"
      ],
      "execution_count": 4,
      "outputs": [
        {
          "output_type": "display_data",
          "data": {
            "image/png": "[encoded data removed]",
            "text/plain": [
              "<Figure size 432x288 with 1 Axes>"
            ]
          },
          "metadata": {
            "tags": []
          }
        },
        {
          "output_type": "display_data",
          "data": {
            "image/png": "[encoded data removed]",
            "text/plain": [
              "<Figure size 432x288 with 1 Axes>"
            ]
          },
          "metadata": {
            "tags": []
          }
        }
      ]
    },
    {
      "cell_type": "markdown",
      "metadata": {
        "id": "9VsXfTqPnW4a",
        "colab_type": "text"
      },
      "source": [
        "# Membuat \"patches\" dari setiap gambar menggunakan metode sliding window\n",
        "\n",
        "**Apa itu *Sliding Window* ?**\n",
        "\n",
        "*Sliding window* adalah window yang bergeser untuk memprediksi dan mencari area objek yang benar. Suatu proses deteksi objek memerlukan teknik lokalisasi \n",
        "untuk menemukan area objek. \n",
        "\n"
      ]
    },
    {
      "cell_type": "code",
      "metadata": {
        "id": "wd7YLs0APniF",
        "colab_type": "code",
        "colab": {}
      },
      "source": [
        "def save_to_folder(img_path,directory,size=56,overlap=0.4):\n",
        "    #Membaca gambar path penyimpanan window ke direktori/file yang spesifik\n",
        "    img = imread(img_path)\n",
        "    basename = os.path.basename(img_path)\n",
        "    fname = os.path.splitext(basename)[0]\n",
        "    windows = sw.generate(img, sw.DimOrder.HeightWidthChannel, size, overlap)\n",
        "    for i,window in enumerate(windows):\n",
        "        ii = str(\"{0:05d}\".format(i))\n",
        "        _fname = fname + \"_\" + ii + \".jpg\"\n",
        "        _img = img[window.indices()]\n",
        "        if _img.shape !=(size,size,3):\n",
        "            continue\n",
        "        img_target_path = os.path.join(directory,_fname)\n",
        "        \n",
        "        imsave(img_target_path,_img, check_contrast=False)\n",
        "\n",
        "files = os.listdir(\"data/paddy/train/\")\n",
        "files = [x for x in files if x.endswith(\".jpg\")]\n",
        "\n",
        "#Menyimpan gambar yang telah dicacah pada folder chopped\n",
        "for file in files:\n",
        "    save_directory = \"data/paddy/chopped/\"\n",
        "    file = os.path.join(\"data/paddy/train/\",file)\n",
        "    save_to_folder(file,save_directory)"
      ],
      "execution_count": 0,
      "outputs": []
    },
    {
      "cell_type": "markdown",
      "metadata": {
        "id": "1u00VK56fHAw",
        "colab_type": "text"
      },
      "source": [
        "# Dataset Pelatihan dari 3 Pulau Berbeda\n",
        "Terdapat 3 dataset yang digunakan dalam Model Performa Klasifikasi akurasi, Recall Rate dan Presisi. Data pelatihan yang telah dichop sehingga menghasilkan gambar baru, lalu kita klasifikasikan hasilnya dengan empat kategori berupa :  *true positive* (TP), *false positive* (FP), *false negative* (FN), dan *true negative* (TN). \n",
        "Dengan ketentuan prediksi benar atau salah dan gambar sawah atau bukan sawah. Pada Gambar Sawah dilabeli dengan nama huruf \"b\" dan ada gambar bukan sawah dilabeli dengan nama huruf \"o\"."
      ]
    },
    {
      "cell_type": "code",
      "metadata": {
        "id": "I_-lFky5Pnwh",
        "colab_type": "code",
        "outputId": "509161c3-c7d2-48c4-b4c8-4c04f441740c",
        "colab": {
          "base_uri": "https://localhost:8080/",
          "height": 34
        }
      },
      "source": [
        "#Mengembalikan daftar gambar yang telah diacak pada direktori\n",
        "#Data yang dilakukan pada model evaluasi\n",
        "\n",
        "#Dataset Pulau Jawa\n",
        "files = os.listdir(\"data/paddy/chopped/\")\n",
        "files = [x for x in files if x.endswith(\".jpg\")]\n",
        "\n",
        "#Memuat dataset Pelatihan\n",
        "x = []\n",
        "y = []\n",
        "\n",
        "for file in files:\n",
        "    if file.startswith(\"b\"):\n",
        "        label = 1\n",
        "    else:\n",
        "        label = 0\n",
        "    \n",
        "    img_path = os.path.join(\"data/paddy/chopped/\",file)\n",
        "    img = load_img(img_path)\n",
        "    img = img_to_array(img)/255\n",
        "    x.append(img)\n",
        "    y.append(label)\n",
        "\n",
        "X = np.array(x)\n",
        "Y = np.array(y)\n",
        "print(\"Bentuk array dari dataset train (pelatihan) adalah :\", (X.shape,Y.shape))"
      ],
      "execution_count": 6,
      "outputs": [
        {
          "output_type": "stream",
          "text": [
            "Bentuk array dari dataset train (pelatihan) adalah : ((89100, 56, 56, 3), (89100,))\n"
          ],
          "name": "stdout"
        }
      ]
    },
    {
      "cell_type": "markdown",
      "metadata": {
        "id": "abiqw9eWzwpB",
        "colab_type": "text"
      },
      "source": [
        "**Pulau Jawa**"
      ]
    },
    {
      "cell_type": "code",
      "metadata": {
        "id": "dydEJPeKx958",
        "colab_type": "code",
        "outputId": "abf86157-4133-4c03-b750-da95c6a7ac2e",
        "colab": {
          "base_uri": "https://localhost:8080/",
          "height": 408
        }
      },
      "source": [
        "files = os.listdir(\"data/paddy/test/Jawa\")\n",
        "files = [x for x in files if x.endswith(\".jpg\")]\n",
        "\n",
        "#Memuat dataset pengujian\n",
        "\n",
        "X_test1 = []\n",
        "Y_test1 = []\n",
        "\n",
        "for file in files:\n",
        "    if file.startswith(\"b\"):\n",
        "        label1 = 1\n",
        "    else:\n",
        "        label1 = 0\n",
        "    \n",
        "    img_path1 = os.path.join(\"data/paddy/test/Jawa\",file)\n",
        "    img1 = load_img(img_path1)\n",
        "    img1 = img_to_array(img1)/255.\n",
        "    img1 = resize(img1,(56,56))\n",
        "    X_test1.append(img1)\n",
        "    Y_test1.append(label1)\n",
        "\n",
        "x_test1 = np.array(X_test1)\n",
        "y_test1 = np.array(Y_test1)\n",
        "print(\"Bentuk array dari dataset test pulau Jawa (pengujian) adalah :\", (x_test1.shape,y_test1.shape))\n",
        "\n",
        "files= pd.Index(files)\n",
        "print(\"Tampilan list gambar yang telah dichop :\\n\",files.value_counts())"
      ],
      "execution_count": 7,
      "outputs": [
        {
          "output_type": "stream",
          "text": [
            "Bentuk array dari dataset test pulau Jawa (pengujian) adalah : ((20, 56, 56, 3), (20,))\n",
            "Tampilan list gambar yang telah dichop :\n",
            " o153.jpg    1\n",
            "b160.jpg    1\n",
            "b155.jpg    1\n",
            "b158.jpg    1\n",
            "o152.jpg    1\n",
            "o159.jpg    1\n",
            "o155.jpg    1\n",
            "o154.jpg    1\n",
            "b151.jpg    1\n",
            "b159.jpg    1\n",
            "o151.jpg    1\n",
            "o156.jpg    1\n",
            "b152.jpg    1\n",
            "o160.jpg    1\n",
            "o158.jpg    1\n",
            "b153.jpg    1\n",
            "b154.jpg    1\n",
            "o157.jpg    1\n",
            "b156.jpg    1\n",
            "b157.jpg    1\n",
            "dtype: int64\n"
          ],
          "name": "stdout"
        }
      ]
    },
    {
      "cell_type": "markdown",
      "metadata": {
        "id": "XjCZDPx-z6Q2",
        "colab_type": "text"
      },
      "source": [
        "**Pulau Kalimantan**"
      ]
    },
    {
      "cell_type": "code",
      "metadata": {
        "id": "54qaugNP0Ae2",
        "colab_type": "code",
        "outputId": "187c8421-bc3f-4c64-e121-5ccf1827939b",
        "colab": {
          "base_uri": "https://localhost:8080/",
          "height": 408
        }
      },
      "source": [
        "files = os.listdir(\"data/paddy/test/Kalimantan\")\n",
        "files = [x for x in files if x.endswith(\".jpg\")]\n",
        "\n",
        "#Memuat dataset pengujian\n",
        "\n",
        "X_test2 = []\n",
        "Y_test2 = []\n",
        "\n",
        "for file in files:\n",
        "    if file.startswith(\"b\"):\n",
        "        label2 = 1\n",
        "    else:\n",
        "        label2 = 0\n",
        "    \n",
        "    img_path2 = os.path.join(\"data/paddy/test/Kalimantan\",file)\n",
        "    img2 = load_img(img_path2)\n",
        "    img2 = img_to_array(img2)/255.\n",
        "    img2 = resize(img2,(56,56))\n",
        "    X_test2.append(img2)\n",
        "    Y_test2.append(label2)\n",
        "\n",
        "x_test2 = np.array(X_test2)\n",
        "y_test2 = np.array(Y_test2)\n",
        "print(\"Bentuk array dari dataset test pulau Kalimantan (pengujian) adalah :\", (x_test2.shape,y_test2.shape))\n",
        "\n",
        "files= pd.Index(files)\n",
        "print(\"Tampilan list gambar yang telah dichop :\\n\",files.value_counts())"
      ],
      "execution_count": 8,
      "outputs": [
        {
          "output_type": "stream",
          "text": [
            "Bentuk array dari dataset test pulau Kalimantan (pengujian) adalah : ((20, 56, 56, 3), (20,))\n",
            "Tampilan list gambar yang telah dichop :\n",
            " o164.jpg    1\n",
            "o162.jpg    1\n",
            "o165.jpg    1\n",
            "o169.jpg    1\n",
            "b164.jpg    1\n",
            "b167.jpg    1\n",
            "b162.jpg    1\n",
            "o166.jpg    1\n",
            "b161.jpg    1\n",
            "o163.jpg    1\n",
            "b166.jpg    1\n",
            "o170.jpg    1\n",
            "b165.jpg    1\n",
            "b169.jpg    1\n",
            "o167.jpg    1\n",
            "b170.jpg    1\n",
            "o168.jpg    1\n",
            "b168.jpg    1\n",
            "b163.jpg    1\n",
            "o161.jpg    1\n",
            "dtype: int64\n"
          ],
          "name": "stdout"
        }
      ]
    },
    {
      "cell_type": "markdown",
      "metadata": {
        "id": "4Od-WVWfz8q0",
        "colab_type": "text"
      },
      "source": [
        "**Pulau Sumatra**"
      ]
    },
    {
      "cell_type": "code",
      "metadata": {
        "id": "cb_HL8IB0Ffg",
        "colab_type": "code",
        "outputId": "bfdd0fe9-878d-42b5-de3f-9e879619ac53",
        "colab": {
          "base_uri": "https://localhost:8080/",
          "height": 408
        }
      },
      "source": [
        "files = os.listdir(\"data/paddy/test/Sumatra\")\n",
        "files = [x for x in files if x.endswith(\".jpg\")]\n",
        "\n",
        "#Memuat dataset pengujian\n",
        "\n",
        "X_test3 = []\n",
        "Y_test3 = []\n",
        "\n",
        "for file in files:\n",
        "    if file.startswith(\"b\"):\n",
        "        label3 = 1\n",
        "    else:\n",
        "        label3 = 0\n",
        "    \n",
        "    img_path3 = os.path.join(\"data/paddy/test/Sumatra\",file)\n",
        "    img3 = load_img(img_path3)\n",
        "    img3 = img_to_array(img3)/255.\n",
        "    img3 = resize(img3,(56,56))\n",
        "    X_test3.append(img3)\n",
        "    Y_test3.append(label3)\n",
        "\n",
        "x_test3 = np.array(X_test3)\n",
        "y_test3 = np.array(Y_test3)\n",
        "print(\"Bentuk array dari dataset test pulau Sumatra (pengujian) adalah :\", (x_test3.shape,y_test3.shape))\n",
        "\n",
        "files= pd.Index(files)\n",
        "print(\"Tampilan list gambar yang telah dichop :\\n\",files.value_counts())"
      ],
      "execution_count": 9,
      "outputs": [
        {
          "output_type": "stream",
          "text": [
            "Bentuk array dari dataset test pulau Sumatra (pengujian) adalah : ((20, 56, 56, 3), (20,))\n",
            "Tampilan list gambar yang telah dichop :\n",
            " b171.jpg    1\n",
            "o179.jpg    1\n",
            "170.jpg     1\n",
            "b180.jpg    1\n",
            "o171.jpg    1\n",
            "b179.jpg    1\n",
            "b177.jpg    1\n",
            "b178.jpg    1\n",
            "b173.jpg    1\n",
            "b174.jpg    1\n",
            "b172.jpg    1\n",
            "o176.jpg    1\n",
            "o173.jpg    1\n",
            "o174.jpg    1\n",
            "o172.jpg    1\n",
            "o175.jpg    1\n",
            "b175.jpg    1\n",
            "b176.jpg    1\n",
            "o178.jpg    1\n",
            "o177.jpg    1\n",
            "dtype: int64\n"
          ],
          "name": "stdout"
        }
      ]
    },
    {
      "cell_type": "code",
      "metadata": {
        "colab_type": "code",
        "outputId": "c1b9242b-fa80-400b-cd02-3f1d402af2b0",
        "id": "weSQbPeTw9aP",
        "colab": {
          "base_uri": "https://localhost:8080/",
          "height": 51
        }
      },
      "source": [
        "from sklearn.model_selection import train_test_split\n",
        "\n",
        "train_x, valid_x, train_y, valid_y = train_test_split(X,Y,test_size=0.25,stratify = y)\n",
        "\n",
        "print(\"Bentuk array dari dataset train (pelatihan) adalah:\",train_x.shape,train_y.shape)\n",
        "print(\"Bentuk array dari dataset validation adalah:\",valid_x.shape,valid_y.shape)\n",
        "#print(\"Bentuk array dari dataset test (pengujian) adalah:\",x_test.shape,y_test.shape)"
      ],
      "execution_count": 10,
      "outputs": [
        {
          "output_type": "stream",
          "text": [
            "Bentuk array dari dataset train (pelatihan) adalah: (66825, 56, 56, 3) (66825,)\n",
            "Bentuk array dari dataset validation adalah: (22275, 56, 56, 3) (22275,)\n"
          ],
          "name": "stdout"
        }
      ]
    },
    {
      "cell_type": "code",
      "metadata": {
        "id": "8VZscKf1L1Ez",
        "colab_type": "code",
        "outputId": "08bb6d33-7a05-44dd-b280-4699eb1b40e5",
        "colab": {
          "base_uri": "https://localhost:8080/",
          "height": 68
        }
      },
      "source": [
        "#Mengkomputasi kelas bobotnya\n",
        "print(np.unique(train_y,return_counts=True))\n",
        "print(np.unique(valid_y,return_counts=True))\n",
        "\n",
        "cw = compute_class_weight(\"balanced\",np.unique(train_y),train_y)\n",
        "print(cw)"
      ],
      "execution_count": 11,
      "outputs": [
        {
          "output_type": "stream",
          "text": [
            "(array([0, 1]), array([33412, 33413]))\n",
            "(array([0, 1]), array([11138, 11137]))\n",
            "[1.00001496 0.99998504]\n"
          ],
          "name": "stdout"
        }
      ]
    },
    {
      "cell_type": "markdown",
      "metadata": {
        "id": "Zs-hOwdc4TkT",
        "colab_type": "text"
      },
      "source": [
        "#Pembuatan Model"
      ]
    },
    {
      "cell_type": "code",
      "metadata": {
        "id": "BBV-zKkN-18o",
        "colab_type": "code",
        "colab": {}
      },
      "source": [
        "import tensorflow as tf\n",
        "from sklearn import svm, datasets\n",
        "from sklearn.metrics import confusion_matrix\n",
        "import pandas as pd"
      ],
      "execution_count": 0,
      "outputs": []
    },
    {
      "cell_type": "code",
      "metadata": {
        "id": "WYVvegej-3Yl",
        "colab_type": "code",
        "colab": {}
      },
      "source": [
        "IMG_SHAPE = (56, 56, 3)\n",
        "# Membuat model dasar (base model) dari pre-trained model MobileNet\n",
        "base_model = tf.keras.applications.VGG16(input_shape=IMG_SHAPE,\n",
        "                                              include_top=False, \n",
        "                                              weights='imagenet')"
      ],
      "execution_count": 0,
      "outputs": []
    },
    {
      "cell_type": "code",
      "metadata": {
        "id": "tWAQqMT1_ZDk",
        "colab_type": "code",
        "outputId": "d8e911fa-90b7-482e-9f47-ab2243ccf614",
        "colab": {
          "base_uri": "https://localhost:8080/",
          "height": 799
        }
      },
      "source": [
        "base_model.trainable = False\n",
        "base_model.summary()"
      ],
      "execution_count": 56,
      "outputs": [
        {
          "output_type": "stream",
          "text": [
            "Model: \"vgg16\"\n",
            "_________________________________________________________________\n",
            "Layer (type)                 Output Shape              Param #   \n",
            "=================================================================\n",
            "input_5 (InputLayer)         [(None, 56, 56, 3)]       0         \n",
            "_________________________________________________________________\n",
            "block1_conv1 (Conv2D)        (None, 56, 56, 64)        1792      \n",
            "_________________________________________________________________\n",
            "block1_conv2 (Conv2D)        (None, 56, 56, 64)        36928     \n",
            "_________________________________________________________________\n",
            "block1_pool (MaxPooling2D)   (None, 28, 28, 64)        0         \n",
            "_________________________________________________________________\n",
            "block2_conv1 (Conv2D)        (None, 28, 28, 128)       73856     \n",
            "_________________________________________________________________\n",
            "block2_conv2 (Conv2D)        (None, 28, 28, 128)       147584    \n",
            "_________________________________________________________________\n",
            "block2_pool (MaxPooling2D)   (None, 14, 14, 128)       0         \n",
            "_________________________________________________________________\n",
            "block3_conv1 (Conv2D)        (None, 14, 14, 256)       295168    \n",
            "_________________________________________________________________\n",
            "block3_conv2 (Conv2D)        (None, 14, 14, 256)       590080    \n",
            "_________________________________________________________________\n",
            "block3_conv3 (Conv2D)        (None, 14, 14, 256)       590080    \n",
            "_________________________________________________________________\n",
            "block3_pool (MaxPooling2D)   (None, 7, 7, 256)         0         \n",
            "_________________________________________________________________\n",
            "block4_conv1 (Conv2D)        (None, 7, 7, 512)         1180160   \n",
            "_________________________________________________________________\n",
            "block4_conv2 (Conv2D)        (None, 7, 7, 512)         2359808   \n",
            "_________________________________________________________________\n",
            "block4_conv3 (Conv2D)        (None, 7, 7, 512)         2359808   \n",
            "_________________________________________________________________\n",
            "block4_pool (MaxPooling2D)   (None, 3, 3, 512)         0         \n",
            "_________________________________________________________________\n",
            "block5_conv1 (Conv2D)        (None, 3, 3, 512)         2359808   \n",
            "_________________________________________________________________\n",
            "block5_conv2 (Conv2D)        (None, 3, 3, 512)         2359808   \n",
            "_________________________________________________________________\n",
            "block5_conv3 (Conv2D)        (None, 3, 3, 512)         2359808   \n",
            "_________________________________________________________________\n",
            "block5_pool (MaxPooling2D)   (None, 1, 1, 512)         0         \n",
            "=================================================================\n",
            "Total params: 14,714,688\n",
            "Trainable params: 0\n",
            "Non-trainable params: 14,714,688\n",
            "_________________________________________________________________\n"
          ],
          "name": "stdout"
        }
      ]
    },
    {
      "cell_type": "code",
      "metadata": {
        "id": "wB5CBnvH4W16",
        "colab_type": "code",
        "outputId": "3479bc1d-5904-4b6c-9da4-b2e16c4d536c",
        "colab": {
          "base_uri": "https://localhost:8080/",
          "height": 357
        }
      },
      "source": [
        "model = tf.keras.Sequential([\n",
        "    base_model,  \n",
        "    #tf.keras.layers.Conv2D(64,(3,3),name=\"conv1\",input_shape=(56,56,3),activation=\"relu\",padding=\"same\"),   \n",
        "    #tf.keras.layers.MaxPool2D((2,2),name=\"pool1\"),\n",
        "    #tf.keras.layers.Dropout(0.5),\n",
        "    #tf.keras.layers.Conv2D(64,(3,3),name=\"conv2\",padding=\"same\"),\n",
        "    #tf.keras.layers.Activation(\"relu\"),\n",
        "    #tf.keras.layers.MaxPool2D((2,2),name=\"pool2\"),\n",
        "    #tf.keras.layers.Dropout(0.5),\n",
        "    #tf.keras.layers.Conv2D(32,(3,3),name=\"conv3\",padding=\"same\"),\n",
        "    #tf.keras.layers.Activation(\"relu\"),\n",
        "    #tf.keras.layers.MaxPool2D((2,2),name=\"pool3\"),\n",
        "    #tf.keras.layers.Dropout(0.5),\n",
        "    tf.keras.layers.Flatten(),\n",
        "    tf.keras.layers.Dense(64,activation=\"relu\"),\n",
        "    tf.keras.layers.Dropout(0.5),\n",
        "    tf.keras.layers.Dense(1), \n",
        "    tf.keras.layers.Activation(\"sigmoid\",name=\"prediction\")\n",
        "]\n",
        ")\n",
        "\n",
        "model.compile(optimizer=\"adam\",loss=\"binary_crossentropy\",metrics=[\"acc\"])\n",
        "\n",
        "model.summary()"
      ],
      "execution_count": 57,
      "outputs": [
        {
          "output_type": "stream",
          "text": [
            "Model: \"sequential_19\"\n",
            "_________________________________________________________________\n",
            "Layer (type)                 Output Shape              Param #   \n",
            "=================================================================\n",
            "vgg16 (Model)                (None, 1, 1, 512)         14714688  \n",
            "_________________________________________________________________\n",
            "flatten_19 (Flatten)         (None, 512)               0         \n",
            "_________________________________________________________________\n",
            "dense_37 (Dense)             (None, 64)                32832     \n",
            "_________________________________________________________________\n",
            "dropout_25 (Dropout)         (None, 64)                0         \n",
            "_________________________________________________________________\n",
            "dense_38 (Dense)             (None, 1)                 65        \n",
            "_________________________________________________________________\n",
            "prediction (Activation)      (None, 1)                 0         \n",
            "=================================================================\n",
            "Total params: 14,747,585\n",
            "Trainable params: 32,897\n",
            "Non-trainable params: 14,714,688\n",
            "_________________________________________________________________\n"
          ],
          "name": "stdout"
        }
      ]
    },
    {
      "cell_type": "code",
      "metadata": {
        "id": "ITatF94f4ZD5",
        "colab_type": "code",
        "outputId": "249f6d2d-a4ca-4741-db38-ce1690390572",
        "colab": {
          "base_uri": "https://localhost:8080/",
          "height": 1000
        }
      },
      "source": [
        "from keras.callbacks import EarlyStopping, ModelCheckpoint\n",
        "\n",
        "#Menyimpan model bobot yang terbaik selama training\n",
        "ckpt = ModelCheckpoint(\"paddy.h5\", monitor='val_loss', verbose=1, save_best_only=True, save_weights_only=False, mode='auto', period=1)\n",
        "\n",
        "history = model.fit(train_x,train_y,batch_size=200,epochs=50,validation_data=(valid_x,valid_y),class_weight=cw, callbacks = [ckpt])"
      ],
      "execution_count": 58,
      "outputs": [
        {
          "output_type": "stream",
          "text": [
            "Train on 66825 samples, validate on 22275 samples\n",
            "Epoch 1/50\n",
            "66600/66825 [============================>.] - ETA: 0s - loss: 0.3104 - acc: 0.8777\n",
            "Epoch 00001: val_loss improved from inf to 0.18485, saving model to paddy.h5\n",
            "66825/66825 [==============================] - 44s 653us/sample - loss: 0.3101 - acc: 0.8779 - val_loss: 0.1848 - val_acc: 0.9368\n",
            "Epoch 2/50\n",
            "66600/66825 [============================>.] - ETA: 0s - loss: 0.1840 - acc: 0.9354\n",
            "Epoch 00002: val_loss improved from 0.18485 to 0.15241, saving model to paddy.h5\n",
            "66825/66825 [==============================] - 19s 291us/sample - loss: 0.1841 - acc: 0.9354 - val_loss: 0.1524 - val_acc: 0.9484\n",
            "Epoch 3/50\n",
            "66600/66825 [============================>.] - ETA: 0s - loss: 0.1542 - acc: 0.9453\n",
            "Epoch 00003: val_loss improved from 0.15241 to 0.12766, saving model to paddy.h5\n",
            "66825/66825 [==============================] - 19s 290us/sample - loss: 0.1541 - acc: 0.9453 - val_loss: 0.1277 - val_acc: 0.9512\n",
            "Epoch 4/50\n",
            "66600/66825 [============================>.] - ETA: 0s - loss: 0.1390 - acc: 0.9513\n",
            "Epoch 00004: val_loss improved from 0.12766 to 0.11819, saving model to paddy.h5\n",
            "66825/66825 [==============================] - 19s 290us/sample - loss: 0.1390 - acc: 0.9513 - val_loss: 0.1182 - val_acc: 0.9570\n",
            "Epoch 5/50\n",
            "66600/66825 [============================>.] - ETA: 0s - loss: 0.1291 - acc: 0.9546\n",
            "Epoch 00005: val_loss improved from 0.11819 to 0.11132, saving model to paddy.h5\n",
            "66825/66825 [==============================] - 19s 290us/sample - loss: 0.1291 - acc: 0.9546 - val_loss: 0.1113 - val_acc: 0.9592\n",
            "Epoch 6/50\n",
            "66600/66825 [============================>.] - ETA: 0s - loss: 0.1232 - acc: 0.9569\n",
            "Epoch 00006: val_loss improved from 0.11132 to 0.11052, saving model to paddy.h5\n",
            "66825/66825 [==============================] - 19s 289us/sample - loss: 0.1233 - acc: 0.9569 - val_loss: 0.1105 - val_acc: 0.9565\n",
            "Epoch 7/50\n",
            "66600/66825 [============================>.] - ETA: 0s - loss: 0.1192 - acc: 0.9584\n",
            "Epoch 00007: val_loss improved from 0.11052 to 0.10310, saving model to paddy.h5\n",
            "66825/66825 [==============================] - 19s 288us/sample - loss: 0.1194 - acc: 0.9584 - val_loss: 0.1031 - val_acc: 0.9604\n",
            "Epoch 8/50\n",
            "66600/66825 [============================>.] - ETA: 0s - loss: 0.1164 - acc: 0.9598\n",
            "Epoch 00008: val_loss improved from 0.10310 to 0.10024, saving model to paddy.h5\n",
            "66825/66825 [==============================] - 19s 287us/sample - loss: 0.1164 - acc: 0.9599 - val_loss: 0.1002 - val_acc: 0.9614\n",
            "Epoch 9/50\n",
            "66600/66825 [============================>.] - ETA: 0s - loss: 0.1131 - acc: 0.9605\n",
            "Epoch 00009: val_loss did not improve from 0.10024\n",
            "66825/66825 [==============================] - 19s 286us/sample - loss: 0.1130 - acc: 0.9606 - val_loss: 0.1003 - val_acc: 0.9626\n",
            "Epoch 10/50\n",
            "66600/66825 [============================>.] - ETA: 0s - loss: 0.1114 - acc: 0.9610\n",
            "Epoch 00010: val_loss improved from 0.10024 to 0.09821, saving model to paddy.h5\n",
            "66825/66825 [==============================] - 19s 286us/sample - loss: 0.1114 - acc: 0.9610 - val_loss: 0.0982 - val_acc: 0.9622\n",
            "Epoch 11/50\n",
            "66600/66825 [============================>.] - ETA: 0s - loss: 0.1092 - acc: 0.9616\n",
            "Epoch 00011: val_loss did not improve from 0.09821\n",
            "66825/66825 [==============================] - 19s 288us/sample - loss: 0.1093 - acc: 0.9616 - val_loss: 0.1005 - val_acc: 0.9612\n",
            "Epoch 12/50\n",
            "66600/66825 [============================>.] - ETA: 0s - loss: 0.1074 - acc: 0.9625\n",
            "Epoch 00012: val_loss did not improve from 0.09821\n",
            "66825/66825 [==============================] - 19s 286us/sample - loss: 0.1074 - acc: 0.9625 - val_loss: 0.1044 - val_acc: 0.9618\n",
            "Epoch 13/50\n",
            "66600/66825 [============================>.] - ETA: 0s - loss: 0.1061 - acc: 0.9634\n",
            "Epoch 00013: val_loss did not improve from 0.09821\n",
            "66825/66825 [==============================] - 19s 283us/sample - loss: 0.1060 - acc: 0.9634 - val_loss: 0.1056 - val_acc: 0.9598\n",
            "Epoch 14/50\n",
            "66600/66825 [============================>.] - ETA: 0s - loss: 0.1043 - acc: 0.9635\n",
            "Epoch 00014: val_loss improved from 0.09821 to 0.09176, saving model to paddy.h5\n",
            "66825/66825 [==============================] - 19s 287us/sample - loss: 0.1043 - acc: 0.9635 - val_loss: 0.0918 - val_acc: 0.9650\n",
            "Epoch 15/50\n",
            "66600/66825 [============================>.] - ETA: 0s - loss: 0.1027 - acc: 0.9642\n",
            "Epoch 00015: val_loss improved from 0.09176 to 0.09046, saving model to paddy.h5\n",
            "66825/66825 [==============================] - 19s 286us/sample - loss: 0.1029 - acc: 0.9642 - val_loss: 0.0905 - val_acc: 0.9660\n",
            "Epoch 16/50\n",
            "26600/66825 [==========>...................] - ETA: 8s - loss: 0.1116 - acc: 0.9612"
          ],
          "name": "stdout"
        },
        {
          "output_type": "error",
          "ename": "KeyboardInterrupt",
          "evalue": "ignored",
          "traceback": [
            "\u001b[0;31m---------------------------------------------------------------------------\u001b[0m",
            "\u001b[0;31mKeyboardInterrupt\u001b[0m                         Traceback (most recent call last)",
            "\u001b[0;32m<ipython-input-58-acfebe711961>\u001b[0m in \u001b[0;36m<module>\u001b[0;34m()\u001b[0m\n\u001b[1;32m      4\u001b[0m \u001b[0mckpt\u001b[0m \u001b[0;34m=\u001b[0m \u001b[0mModelCheckpoint\u001b[0m\u001b[0;34m(\u001b[0m\u001b[0;34m\"paddy.h5\"\u001b[0m\u001b[0;34m,\u001b[0m \u001b[0mmonitor\u001b[0m\u001b[0;34m=\u001b[0m\u001b[0;34m'val_loss'\u001b[0m\u001b[0;34m,\u001b[0m \u001b[0mverbose\u001b[0m\u001b[0;34m=\u001b[0m\u001b[0;36m1\u001b[0m\u001b[0;34m,\u001b[0m \u001b[0msave_best_only\u001b[0m\u001b[0;34m=\u001b[0m\u001b[0;32mTrue\u001b[0m\u001b[0;34m,\u001b[0m \u001b[0msave_weights_only\u001b[0m\u001b[0;34m=\u001b[0m\u001b[0;32mFalse\u001b[0m\u001b[0;34m,\u001b[0m \u001b[0mmode\u001b[0m\u001b[0;34m=\u001b[0m\u001b[0;34m'auto'\u001b[0m\u001b[0;34m,\u001b[0m \u001b[0mperiod\u001b[0m\u001b[0;34m=\u001b[0m\u001b[0;36m1\u001b[0m\u001b[0;34m)\u001b[0m\u001b[0;34m\u001b[0m\u001b[0;34m\u001b[0m\u001b[0m\n\u001b[1;32m      5\u001b[0m \u001b[0;34m\u001b[0m\u001b[0m\n\u001b[0;32m----> 6\u001b[0;31m \u001b[0mhistory\u001b[0m \u001b[0;34m=\u001b[0m \u001b[0mmodel\u001b[0m\u001b[0;34m.\u001b[0m\u001b[0mfit\u001b[0m\u001b[0;34m(\u001b[0m\u001b[0mtrain_x\u001b[0m\u001b[0;34m,\u001b[0m\u001b[0mtrain_y\u001b[0m\u001b[0;34m,\u001b[0m\u001b[0mbatch_size\u001b[0m\u001b[0;34m=\u001b[0m\u001b[0;36m200\u001b[0m\u001b[0;34m,\u001b[0m\u001b[0mepochs\u001b[0m\u001b[0;34m=\u001b[0m\u001b[0;36m50\u001b[0m\u001b[0;34m,\u001b[0m\u001b[0mvalidation_data\u001b[0m\u001b[0;34m=\u001b[0m\u001b[0;34m(\u001b[0m\u001b[0mvalid_x\u001b[0m\u001b[0;34m,\u001b[0m\u001b[0mvalid_y\u001b[0m\u001b[0;34m)\u001b[0m\u001b[0;34m,\u001b[0m\u001b[0mclass_weight\u001b[0m\u001b[0;34m=\u001b[0m\u001b[0mcw\u001b[0m\u001b[0;34m,\u001b[0m \u001b[0mcallbacks\u001b[0m \u001b[0;34m=\u001b[0m \u001b[0;34m[\u001b[0m\u001b[0mckpt\u001b[0m\u001b[0;34m]\u001b[0m\u001b[0;34m)\u001b[0m\u001b[0;34m\u001b[0m\u001b[0;34m\u001b[0m\u001b[0m\n\u001b[0m",
            "\u001b[0;32m/usr/local/lib/python3.6/dist-packages/tensorflow_core/python/keras/engine/training.py\u001b[0m in \u001b[0;36mfit\u001b[0;34m(self, x, y, batch_size, epochs, verbose, callbacks, validation_split, validation_data, shuffle, class_weight, sample_weight, initial_epoch, steps_per_epoch, validation_steps, validation_freq, max_queue_size, workers, use_multiprocessing, **kwargs)\u001b[0m\n\u001b[1;32m    725\u001b[0m         \u001b[0mmax_queue_size\u001b[0m\u001b[0;34m=\u001b[0m\u001b[0mmax_queue_size\u001b[0m\u001b[0;34m,\u001b[0m\u001b[0;34m\u001b[0m\u001b[0;34m\u001b[0m\u001b[0m\n\u001b[1;32m    726\u001b[0m         \u001b[0mworkers\u001b[0m\u001b[0;34m=\u001b[0m\u001b[0mworkers\u001b[0m\u001b[0;34m,\u001b[0m\u001b[0;34m\u001b[0m\u001b[0;34m\u001b[0m\u001b[0m\n\u001b[0;32m--> 727\u001b[0;31m         use_multiprocessing=use_multiprocessing)\n\u001b[0m\u001b[1;32m    728\u001b[0m \u001b[0;34m\u001b[0m\u001b[0m\n\u001b[1;32m    729\u001b[0m   def evaluate(self,\n",
            "\u001b[0;32m/usr/local/lib/python3.6/dist-packages/tensorflow_core/python/keras/engine/training_arrays.py\u001b[0m in \u001b[0;36mfit\u001b[0;34m(self, model, x, y, batch_size, epochs, verbose, callbacks, validation_split, validation_data, shuffle, class_weight, sample_weight, initial_epoch, steps_per_epoch, validation_steps, validation_freq, **kwargs)\u001b[0m\n\u001b[1;32m    673\u001b[0m         \u001b[0mvalidation_steps\u001b[0m\u001b[0;34m=\u001b[0m\u001b[0mvalidation_steps\u001b[0m\u001b[0;34m,\u001b[0m\u001b[0;34m\u001b[0m\u001b[0;34m\u001b[0m\u001b[0m\n\u001b[1;32m    674\u001b[0m         \u001b[0mvalidation_freq\u001b[0m\u001b[0;34m=\u001b[0m\u001b[0mvalidation_freq\u001b[0m\u001b[0;34m,\u001b[0m\u001b[0;34m\u001b[0m\u001b[0;34m\u001b[0m\u001b[0m\n\u001b[0;32m--> 675\u001b[0;31m         steps_name='steps_per_epoch')\n\u001b[0m\u001b[1;32m    676\u001b[0m \u001b[0;34m\u001b[0m\u001b[0m\n\u001b[1;32m    677\u001b[0m   def evaluate(self,\n",
            "\u001b[0;32m/usr/local/lib/python3.6/dist-packages/tensorflow_core/python/keras/engine/training_arrays.py\u001b[0m in \u001b[0;36mmodel_iteration\u001b[0;34m(model, inputs, targets, sample_weights, batch_size, epochs, verbose, callbacks, val_inputs, val_targets, val_sample_weights, shuffle, initial_epoch, steps_per_epoch, validation_steps, validation_freq, mode, validation_in_fit, prepared_feed_values_from_dataset, steps_name, **kwargs)\u001b[0m\n\u001b[1;32m    392\u001b[0m \u001b[0;34m\u001b[0m\u001b[0m\n\u001b[1;32m    393\u001b[0m         \u001b[0;31m# Get outputs.\u001b[0m\u001b[0;34m\u001b[0m\u001b[0;34m\u001b[0m\u001b[0;34m\u001b[0m\u001b[0m\n\u001b[0;32m--> 394\u001b[0;31m         \u001b[0mbatch_outs\u001b[0m \u001b[0;34m=\u001b[0m \u001b[0mf\u001b[0m\u001b[0;34m(\u001b[0m\u001b[0mins_batch\u001b[0m\u001b[0;34m)\u001b[0m\u001b[0;34m\u001b[0m\u001b[0;34m\u001b[0m\u001b[0m\n\u001b[0m\u001b[1;32m    395\u001b[0m         \u001b[0;32mif\u001b[0m \u001b[0;32mnot\u001b[0m \u001b[0misinstance\u001b[0m\u001b[0;34m(\u001b[0m\u001b[0mbatch_outs\u001b[0m\u001b[0;34m,\u001b[0m \u001b[0mlist\u001b[0m\u001b[0;34m)\u001b[0m\u001b[0;34m:\u001b[0m\u001b[0;34m\u001b[0m\u001b[0;34m\u001b[0m\u001b[0m\n\u001b[1;32m    396\u001b[0m           \u001b[0mbatch_outs\u001b[0m \u001b[0;34m=\u001b[0m \u001b[0;34m[\u001b[0m\u001b[0mbatch_outs\u001b[0m\u001b[0;34m]\u001b[0m\u001b[0;34m\u001b[0m\u001b[0;34m\u001b[0m\u001b[0m\n",
            "\u001b[0;32m/usr/local/lib/python3.6/dist-packages/tensorflow_core/python/keras/backend.py\u001b[0m in \u001b[0;36m__call__\u001b[0;34m(self, inputs)\u001b[0m\n\u001b[1;32m   3474\u001b[0m \u001b[0;34m\u001b[0m\u001b[0m\n\u001b[1;32m   3475\u001b[0m     fetched = self._callable_fn(*array_vals,\n\u001b[0;32m-> 3476\u001b[0;31m                                 run_metadata=self.run_metadata)\n\u001b[0m\u001b[1;32m   3477\u001b[0m     \u001b[0mself\u001b[0m\u001b[0;34m.\u001b[0m\u001b[0m_call_fetch_callbacks\u001b[0m\u001b[0;34m(\u001b[0m\u001b[0mfetched\u001b[0m\u001b[0;34m[\u001b[0m\u001b[0;34m-\u001b[0m\u001b[0mlen\u001b[0m\u001b[0;34m(\u001b[0m\u001b[0mself\u001b[0m\u001b[0;34m.\u001b[0m\u001b[0m_fetches\u001b[0m\u001b[0;34m)\u001b[0m\u001b[0;34m:\u001b[0m\u001b[0;34m]\u001b[0m\u001b[0;34m)\u001b[0m\u001b[0;34m\u001b[0m\u001b[0;34m\u001b[0m\u001b[0m\n\u001b[1;32m   3478\u001b[0m     output_structure = nest.pack_sequence_as(\n",
            "\u001b[0;32m/usr/local/lib/python3.6/dist-packages/tensorflow_core/python/client/session.py\u001b[0m in \u001b[0;36m__call__\u001b[0;34m(self, *args, **kwargs)\u001b[0m\n\u001b[1;32m   1470\u001b[0m         ret = tf_session.TF_SessionRunCallable(self._session._session,\n\u001b[1;32m   1471\u001b[0m                                                \u001b[0mself\u001b[0m\u001b[0;34m.\u001b[0m\u001b[0m_handle\u001b[0m\u001b[0;34m,\u001b[0m \u001b[0margs\u001b[0m\u001b[0;34m,\u001b[0m\u001b[0;34m\u001b[0m\u001b[0;34m\u001b[0m\u001b[0m\n\u001b[0;32m-> 1472\u001b[0;31m                                                run_metadata_ptr)\n\u001b[0m\u001b[1;32m   1473\u001b[0m         \u001b[0;32mif\u001b[0m \u001b[0mrun_metadata\u001b[0m\u001b[0;34m:\u001b[0m\u001b[0;34m\u001b[0m\u001b[0;34m\u001b[0m\u001b[0m\n\u001b[1;32m   1474\u001b[0m           \u001b[0mproto_data\u001b[0m \u001b[0;34m=\u001b[0m \u001b[0mtf_session\u001b[0m\u001b[0;34m.\u001b[0m\u001b[0mTF_GetBuffer\u001b[0m\u001b[0;34m(\u001b[0m\u001b[0mrun_metadata_ptr\u001b[0m\u001b[0;34m)\u001b[0m\u001b[0;34m\u001b[0m\u001b[0;34m\u001b[0m\u001b[0m\n",
            "\u001b[0;31mKeyboardInterrupt\u001b[0m: "
          ]
        }
      ]
    },
    {
      "cell_type": "markdown",
      "metadata": {
        "id": "DVs2KijR8sen",
        "colab_type": "text"
      },
      "source": [
        "#Menggambarkan Hasil Pelatihan"
      ]
    },
    {
      "cell_type": "code",
      "metadata": {
        "id": "lsoY2WiD8X5A",
        "colab_type": "code",
        "colab": {}
      },
      "source": [
        "plt.plot(history.history[\"acc\"],label=\"Akurasi Pelatihan\")\n",
        "plt.plot(history.history[\"val_acc\"],label=\"Validasi Akurasi\")\n",
        "plt.legend()\n",
        "plt.show()\n",
        "\n",
        "plt.plot(history.history[\"loss\"],label=\"Kegagalan Pelatihan\")\n",
        "plt.plot(history.history[\"val_loss\"],label=\"Validasi Kegagalan\")\n",
        "plt.legend()\n",
        "plt.show()"
      ],
      "execution_count": 0,
      "outputs": []
    },
    {
      "cell_type": "markdown",
      "metadata": {
        "id": "xEawNgMdAi5T",
        "colab_type": "text"
      },
      "source": [
        "# Evaluasi dengan model\n"
      ]
    },
    {
      "cell_type": "code",
      "metadata": {
        "id": "bJsST6D0PuLV",
        "colab_type": "code",
        "colab": {}
      },
      "source": [
        "#Memeriksa matriks model\n",
        "print(model.metrics_names)\n",
        "#Evaluasi data training\n",
        "print(model.evaluate(train_x,train_y))\n",
        "#Evaluasi validasi data\n",
        "print(model.evaluate(valid_x,valid_y))\n",
        "#Evaluasi test data\n",
        "print('[Loss, Acc] Test Pulau Jawa', model.evaluate(x= x_test1, y = y_test1))\n",
        "print('[Loss, Acc] Test Pulau Kalimantan', model.evaluate(x= x_test2, y = y_test2))\n",
        "print('[Loss, Acc] Test Pulau Sumatra', model.evaluate(x= x_test3, y = y_test3))"
      ],
      "execution_count": 0,
      "outputs": []
    },
    {
      "cell_type": "code",
      "metadata": {
        "id": "LHJ5P0GrwBSF",
        "colab_type": "code",
        "colab": {}
      },
      "source": [
        "y_pred_class1 = model.predict_classes(x_test1)\n",
        "y_pred_class2 = model.predict_classes(x_test2)\n",
        "y_pred_class3 = model.predict_classes(x_test3)"
      ],
      "execution_count": 0,
      "outputs": []
    },
    {
      "cell_type": "code",
      "metadata": {
        "id": "gHYQW7sv1iQJ",
        "colab_type": "code",
        "colab": {}
      },
      "source": [
        "#Jumlah data prediksi dari data test\n",
        "print('Jumlah data prediksi hasil dari dataset pengujian pada Pulau Jawa :', y_pred_class1.transpose())\n",
        "print('Jumlah data prediksi hasil dari dataset pengujian pada Pulau Kalimantan :', y_pred_class2.transpose())\n",
        "print('Jumlah data prediksi hasil dari dataset pengujian pada Pulau Sumatra :', y_pred_class3.transpose())"
      ],
      "execution_count": 0,
      "outputs": []
    },
    {
      "cell_type": "code",
      "metadata": {
        "id": "IgviFYl1wwZu",
        "colab_type": "code",
        "colab": {}
      },
      "source": [
        "from sklearn import metrics\n",
        "print(\"Akurasi pada data Pulau Jawa:\",metrics.accuracy_score(y_test1, y_pred_class1))\n",
        "print(\"Akurasi pada data Pulau Kalimantan:\",metrics.accuracy_score(y_test2, y_pred_class2))\n",
        "print(\"Akurasi pada data Pulau Sumatra:\",metrics.accuracy_score(y_test3, y_pred_class3))"
      ],
      "execution_count": 0,
      "outputs": []
    },
    {
      "cell_type": "code",
      "metadata": {
        "id": "QYB3OEyG09e7",
        "colab_type": "code",
        "colab": {}
      },
      "source": [
        "# Mengetahui class berdasarkan gambar sawah dan bukan sawah \n",
        "# Apabila 1 menandakan gambar sawah dan 0 bukan sawah \n",
        "\n",
        "Y_test1 = pd.Index(y_test1)\n",
        "print(\"Class dan jumlah data Pulau Jawa:\\n Class Jumlah \\n\",Y_test1.value_counts())\n",
        "print(\"\\n\")\n",
        "Y_test2 = pd.Index(y_test2)\n",
        "print(\"Class dan jumlah data Pulau Kalimantan:\\n Class Jumlah \\n\",Y_test2.value_counts())\n",
        "print(\"\\n\")\n",
        "Y_test3 = pd.Index(y_test3)\n",
        "print(\"Class dan jumlah data Pulau Sumatra:\\n Class Jumlah \\n\",Y_test3.value_counts())\n",
        "print(\"\\n\")"
      ],
      "execution_count": 0,
      "outputs": []
    },
    {
      "cell_type": "code",
      "metadata": {
        "id": "139G0kUM2cn3",
        "colab_type": "code",
        "colab": {}
      },
      "source": [
        "# Menampilkan 25 data pertama/awal true atau pun prediksi \n",
        "print(\"Dataset Pulau Jawa:\")\n",
        "print('True:', Y_test1.values[0:20])\n",
        "print('False:', y_pred_class1.transpose()[0:20])\n",
        "print(\"\\n\")\n",
        "print(\"Dataset Pulau Kalimantan:\")\n",
        "print('True:', Y_test2.values[0:20])\n",
        "print('False:', y_pred_class2.transpose()[0:20])\n",
        "print(\"\\n\")\n",
        "print(\"Dataset Pulau Sumatra:\")\n",
        "print('True:', Y_test3.values[0:20])\n",
        "print('False:', y_pred_class3.transpose()[0:20])"
      ],
      "execution_count": 0,
      "outputs": []
    },
    {
      "cell_type": "code",
      "metadata": {
        "id": "JPRCXOrv0QOJ",
        "colab_type": "code",
        "colab": {}
      },
      "source": [
        "# IMPORTANT: first argument is true values, second argument is predicted values\n",
        "# this produces a 2x2 numpy array (matrix)\n",
        "# save confusion matrix and slice into four pieces\n",
        "confusion = metrics.confusion_matrix(Y_test1, y_pred_class1)\n",
        "print(\"Matriks hasil clasification Pulau Jawa:\\n\",confusion)\n",
        "#[row, column]\n",
        "TP = confusion[1, 1]\n",
        "TN = confusion[0, 0]\n",
        "FP = confusion[0, 1]\n",
        "FN = confusion[1, 0]\n",
        "\n",
        "# IMPORTANT: first argument is true values, second argument is predicted values\n",
        "# this produces a 2x2 numpy array (matrix)\n",
        "# save confusion matrix and slice into four pieces\n",
        "confusion1 = metrics.confusion_matrix(Y_test2, y_pred_class2)\n",
        "print(\"Matriks hasil clasification Pulau Kalimantan:\\n\",confusion1)\n",
        "#[row, column]\n",
        "TP1 = confusion1[1, 1]\n",
        "TN1 = confusion1[0, 0]\n",
        "FP1 = confusion1[0, 1]\n",
        "FN1 = confusion1[1, 0]\n",
        "\n",
        "# IMPORTANT: first argument is true values, second argument is predicted values\n",
        "# this produces a 2x2 numpy array (matrix)\n",
        "# save confusion matrix and slice into four pieces\n",
        "confusion2 = metrics.confusion_matrix(Y_test3, y_pred_class3)\n",
        "print(\"Matriks hasil clasification Pulau Sumatra:\\n\",confusion2)\n",
        "#[row, column]\n",
        "TP2 = confusion2[1, 1]\n",
        "TN2 = confusion2[0, 0]\n",
        "FP2 = confusion2[0, 1]\n",
        "FN2 = confusion2[1, 0]"
      ],
      "execution_count": 0,
      "outputs": []
    },
    {
      "cell_type": "code",
      "metadata": {
        "id": "07aRGpeD3pFN",
        "colab_type": "code",
        "colab": {}
      },
      "source": [
        "# Classification accuracy dari ketiga pulau \n",
        "#print((TP + TN) / float(TP + TN + FP + FN))\n",
        "print(\"Classification accuracy Pulau Jawa:\",metrics.accuracy_score(Y_test1, y_pred_class1))\n",
        "\n",
        "#print((TP1 + TN1) / float(TP1 + TN1 + FP1 + FN1))\n",
        "print(\"Classification accuracy Pulau Kalimantan:\",metrics.accuracy_score(Y_test2, y_pred_class2))\n",
        "\n",
        "#print((TP2 + TN2) / float(TP2 + TN2 + FP2 + FN2))\n",
        "print(\"Classification accuracy Pulau Sumatra:\",metrics.accuracy_score(Y_test3, y_pred_class3))\n",
        "\n",
        "import matplotlib.pyplot as plt\n",
        "\n",
        "data = {'Jawa': metrics.accuracy_score(Y_test1, y_pred_class1), 'Kalimantan': metrics.accuracy_score(Y_test2, y_pred_class2), 'Sumatra': metrics.accuracy_score(Y_test3, y_pred_class3)}\n",
        "names = list(data.keys())\n",
        "values = list(data.values())\n",
        "\n",
        "fig, axs = plt.subplots(1, 1, figsize=(6, 6), sharey=True)\n",
        "axs.bar(names, values)\n",
        "\n",
        "plt.title('Classification Accuracy')\n",
        "plt.xlabel('Site')\n",
        "plt.ylabel('Accuracy')"
      ],
      "execution_count": 0,
      "outputs": []
    },
    {
      "cell_type": "code",
      "metadata": {
        "id": "E6s5aNCp7mzw",
        "colab_type": "code",
        "colab": {}
      },
      "source": [
        "classification_error = (FP + FN) / float(TP + TN + FP + FN)\n",
        "#print(classification_error)\n",
        "#print(1 - metrics.accuracy_score(test_y, y_pred_class))\n",
        "print(\"Classification error Pulau Jawa:\",1 - metrics.accuracy_score(Y_test1, y_pred_class1))\n",
        "\n",
        "classification_error1 = (FP1 + FN1) / float(TP1 + TN1 + FP1 + FN1)\n",
        "#print(classification_error1)\n",
        "print(\"Classification error Pulau Kalimantan:\",1 - metrics.accuracy_score(Y_test2, y_pred_class2))\n",
        "\n",
        "classification_error = (FP2 + FN2) / float(TP2 + TN2 + FP2 + FN2)\n",
        "#print(classification_error)\n",
        "print(\"Classification error Pulau Sumatra:\",1 - metrics.accuracy_score(Y_test3, y_pred_class3))"
      ],
      "execution_count": 0,
      "outputs": []
    },
    {
      "cell_type": "code",
      "metadata": {
        "id": "Dw3vcFoR78RR",
        "colab_type": "code",
        "colab": {}
      },
      "source": [
        "recall_rate_sawah = TP / float(FN + TP)\n",
        "\n",
        "print(\"Recall Rate Sawah Pulau Jawa:\",recall_rate_sawah)\n",
        "#print(metrics.recall_score(test_y, y_pred_class))\n",
        "\n",
        "recall_rate_sawah1 = TP1 / float(FN1 + TP1)\n",
        "\n",
        "print(\"Recall Rate Sawah Pulau Kalimantan:\",recall_rate_sawah1)\n",
        "#print(metrics.recall_score(test_y1, y_pred_class1))\n",
        "\n",
        "recall_rate_sawah2 = TP2 / float(FN2 + TP2)\n",
        "\n",
        "print(\"Recall Rate Sawah Pulau Sumatra:\",recall_rate_sawah2)\n",
        "#print(metrics.recall_score(test_y2, y_pred_class2))\n",
        "\n",
        "import matplotlib.pyplot as plt\n",
        "import decimal\n",
        "\n",
        "data = {'Jawa': recall_rate_sawah, 'Kalimantan': recall_rate_sawah1, 'Sumatra': recall_rate_sawah2}\n",
        "names = list(data.keys())\n",
        "values = list(data.values())\n",
        "\n",
        "fig, ax = plt.subplots(1, 1, figsize=(6, 6), sharey=True)\n",
        "ax.bar(names, values)\n",
        "\n",
        "plt.title('Recall Rate Sawah')\n",
        "plt.xlabel('Site')"
      ],
      "execution_count": 0,
      "outputs": []
    },
    {
      "cell_type": "code",
      "metadata": {
        "id": "kMakcWsg8FzY",
        "colab_type": "code",
        "colab": {}
      },
      "source": [
        "recall_rate_bukan_sawah = TN / (TN + FP)\n",
        "print(\"Recall Rate Bukan Sawah Pulau Jawa:\",recall_rate_bukan_sawah)\n",
        "\n",
        "recall_rate_bukan_sawah1 = TN1 / (TN1 + FP1)\n",
        "print(\"Recall Rate Bukan Sawah Pulau Kalimantan:\",recall_rate_bukan_sawah1)\n",
        "\n",
        "recall_rate_bukan_sawah2 = TN2 / (TN2 + FP2)\n",
        "print(\"Recall Rate Bukan Sawah Pulau Sumatra:\",recall_rate_bukan_sawah2)\n",
        "\n",
        "import matplotlib.pyplot as plt\n",
        "import decimal\n",
        "\n",
        "data = {'Jawa': recall_rate_bukan_sawah, 'Kalimantan': recall_rate_bukan_sawah1, 'Sumatra': recall_rate_bukan_sawah2}\n",
        "names = list(data.keys())\n",
        "values = list(data.values())\n",
        "\n",
        "fig, ax = plt.subplots(1, 1, figsize=(6, 6), sharey=True)\n",
        "ax.bar(names, values)\n",
        "\n",
        "plt.title('Recall Rate Bukan Sawah')\n",
        "plt.xlabel('Site')\n",
        "plt.ylabel('Recall Rate')"
      ],
      "execution_count": 0,
      "outputs": []
    },
    {
      "cell_type": "code",
      "metadata": {
        "id": "E-kpm3m18MAQ",
        "colab_type": "code",
        "colab": {}
      },
      "source": [
        "false_positive_rate = FP / float(TN + FP)\n",
        "#print(false_positive_rate)\n",
        "print(\"false positive rate Pulau Jawa:\",1 - recall_rate_bukan_sawah)\n",
        "\n",
        "false_positive_rate1 = FP1 / float(TN1 + FP1)\n",
        "#print(false_positive_rate1)\n",
        "print(\"false positive rate Pulau Kalimantan:\",1 - recall_rate_bukan_sawah1)\n",
        "\n",
        "false_positive_rate2 = FP2 / float(TN2 + FP2)\n",
        "#print(false_positive_rate2)\n",
        "print(\"false positive rate Pulau Sumatra:\",1 - recall_rate_bukan_sawah2)"
      ],
      "execution_count": 0,
      "outputs": []
    },
    {
      "cell_type": "code",
      "metadata": {
        "id": "Xvnf0d1D8R6U",
        "colab_type": "code",
        "colab": {}
      },
      "source": [
        "precision_sawah = TP / float(TP + FP)\n",
        "print(\"Precision Sawah Pulau Jawa:\",precision_sawah)\n",
        "\n",
        "precision_sawah1 = TP1 / float(TP1 + FP1)\n",
        "print(\"Precision Sawah Pulau Kalimantan:\",precision_sawah1)\n",
        "\n",
        "precision_sawah2 = TP2 / float(TP2 + FP2)\n",
        "print(\"Precision Sawah Pulau Sumatra:\",precision_sawah2)\n",
        "\n",
        "import matplotlib.pyplot as plt\n",
        "import decimal\n",
        "\n",
        "data = {'Jawa': precision_sawah, 'Kalimantan': precision_sawah1, 'Sumatra': precision_sawah2}\n",
        "names = list(data.keys())\n",
        "values = list(data.values())\n",
        "\n",
        "fig, ax = plt.subplots(1, 1, figsize=(6, 6), sharey=True)\n",
        "ax.bar(names, values)\n",
        "\n",
        "plt.title('Precision Sawah')\n",
        "plt.xlabel('Site')\n",
        "plt.ylabel('Precision')"
      ],
      "execution_count": 0,
      "outputs": []
    },
    {
      "cell_type": "code",
      "metadata": {
        "id": "-GZJ7LVM8W9g",
        "colab_type": "code",
        "colab": {}
      },
      "source": [
        "precision_bukan_sawah = TN / float (FP + TN)\n",
        "print(\"Precision Bukan Sawah Pulau Jawa:\",precision_bukan_sawah)\n",
        "\n",
        "precision_bukan_sawah1 = TN1 / float(FP1 + TN1)\n",
        "print(\"Precision Bukan Sawah Pulau Kalimantan:\",precision_bukan_sawah1)\n",
        "\n",
        "precision_bukan_sawah2 = TN2 / float(FP2 + TN2)\n",
        "print(\"Precision Bukan Sawah Pulau Sumatra:\",precision_bukan_sawah2)\n",
        "\n",
        "import matplotlib.pyplot as plt\n",
        "import decimal\n",
        "\n",
        "data = {'Jawa': precision_bukan_sawah, 'Kalimantan': precision_bukan_sawah1, 'Sumatra': precision_bukan_sawah2}\n",
        "names = list(data.keys())\n",
        "values = list(data.values())\n",
        "\n",
        "fig, ax = plt.subplots(1, 1, figsize=(6, 6), sharey=True)\n",
        "ax.bar(names, values)\n",
        "\n",
        "plt.title('Precision Sawah')\n",
        "plt.xlabel('Site')\n",
        "plt.ylabel('Precision')"
      ],
      "execution_count": 0,
      "outputs": []
    },
    {
      "cell_type": "code",
      "metadata": {
        "id": "i-HH_2bzuWfj",
        "colab_type": "code",
        "colab": {}
      },
      "source": [
        "F1_sawah = (2*(precision_sawah*recall_rate_sawah)/(precision_sawah + recall_rate_sawah))\n",
        "print(\"F1 Sawah Pulau Jawa:\",F1_sawah)\n",
        "\n",
        "F1_sawah1 = (2*(precision_sawah1*recall_rate_sawah1)/(precision_sawah1 + recall_rate_sawah1))\n",
        "print(\"F1 Sawah Pulau Kalimantan:\",F1_sawah1)\n",
        "\n",
        "F1_sawah2 = (2*(precision_sawah2*recall_rate_sawah2)/(precision_sawah2 + recall_rate_sawah2))\n",
        "print(\"F1 Sawah Pulau Sumatra:\",F1_sawah2)\n",
        "\n",
        "import matplotlib.pyplot as plt\n",
        "import decimal\n",
        "\n",
        "data = {'Jawa': F1_sawah, 'Kalimantan': F1_sawah1, 'Sumatra': F1_sawah2}\n",
        "names = list(data.keys())\n",
        "values = list(data.values())\n",
        "\n",
        "fig, ax = plt.subplots(1, 1, figsize=(6, 6), sharey=True)\n",
        "ax.bar(names, values)\n",
        "\n",
        "plt.title('F1 Sawah')\n",
        "plt.xlabel('Site')\n",
        "plt.ylabel('F1')"
      ],
      "execution_count": 0,
      "outputs": []
    },
    {
      "cell_type": "code",
      "metadata": {
        "id": "iK1oLh-2ueUH",
        "colab_type": "code",
        "colab": {}
      },
      "source": [
        "F1_bukan_sawah = (2*(precision_bukan_sawah*recall_rate_bukan_sawah)/(precision_bukan_sawah + recall_rate_bukan_sawah))\n",
        "print(\"F1 Bukan Sawah Pulau Jawa:\",F1_bukan_sawah)\n",
        "\n",
        "F1_bukan_sawah1 = (2*(precision_bukan_sawah1*recall_rate_bukan_sawah1)/(precision_bukan_sawah1 + recall_rate_bukan_sawah1))\n",
        "print(\"F1 Bukan Sawah Pulau Kalimantan:\",F1_bukan_sawah1)\n",
        "\n",
        "F1_bukan_sawah2 = (2*(precision_bukan_sawah2*recall_rate_bukan_sawah2)/(precision_bukan_sawah2 + recall_rate_bukan_sawah2))\n",
        "print(\"F1 Bukan Sawah Pulau Sumatra:\",F1_bukan_sawah2)\n",
        "\n",
        "import matplotlib.pyplot as plt\n",
        "import decimal\n",
        "\n",
        "data = {'Jawa': F1_bukan_sawah, 'Kalimantan': F1_bukan_sawah1, 'Sumatra': F1_bukan_sawah2}\n",
        "names = list(data.keys())\n",
        "values = list(data.values())\n",
        "\n",
        "fig, ax = plt.subplots(1, 1, figsize=(6, 6), sharey=True)\n",
        "ax.bar(names, values)\n",
        "\n",
        "plt.title('F1 Bukan Sawah')\n",
        "plt.xlabel('Site')\n",
        "plt.ylabel('F1')"
      ],
      "execution_count": 0,
      "outputs": []
    },
    {
      "cell_type": "markdown",
      "metadata": {
        "id": "Mag9Cc7p6YsR",
        "colab_type": "text"
      },
      "source": [
        "# Evaluasi Gambar Pelatihan dengan Gambar Data Pengujian"
      ]
    },
    {
      "cell_type": "markdown",
      "metadata": {
        "id": "2vesggEAupat",
        "colab_type": "text"
      },
      "source": [
        "# Mengetahui Akurasi Gambar Data Pengujian dalam Piksel\n",
        "\n",
        "Pada evaluasi gambar ini, kita mencari akurasi data pengujian dalam piksel. Terdapat 2 jenis gambar yang akan diujikan dalam mendapatkan nilai akurasi piksel, yaitu gambar dengan sawah dan gambar bukan/atau selain sawah."
      ]
    },
    {
      "cell_type": "markdown",
      "metadata": {
        "id": "-tk2AGJkuxV_",
        "colab_type": "text"
      },
      "source": [
        "**Akurasi Gambar Pengujian dengan Sawah**"
      ]
    },
    {
      "cell_type": "code",
      "metadata": {
        "id": "Lu58VN5vu2kX",
        "colab_type": "code",
        "colab": {}
      },
      "source": [
        "\n",
        "#Membaca Gambar Test Data dan Menampilkannya\n",
        "img_path = \"data/paddy/test/Jawa/b151.jpg\"\n",
        "img = load_img(img_path)\n",
        "img = img_to_array(img)/255\n",
        "plt.imshow(img)\n",
        "plt.show()\n",
        "\n",
        "#Membuat subimages dengan patches menggunkan metode sliding windows\n",
        "patches = []\n",
        "windows = sw.generate(img, sw.DimOrder.HeightWidthChannel, 56, 0.6)\n",
        "for i,window in enumerate(windows):\n",
        "    _img = img[window.indices()]\n",
        "    patches.append(_img)\n",
        "patches = np.array(patches)\n",
        "\n",
        "#Mengecek total gambar dan banyaknya gambar yang terpasang pada height direction, maupun width direction\n",
        "n_total = len(windows)\n",
        "_x = 0\n",
        "for i,window in enumerate(windows):\n",
        "    if _x != window.x:\n",
        "        n_x = i\n",
        "        print(n_x)\n",
        "        break\n",
        "    _x = window.x\n",
        "\n",
        "\n",
        "print(n_total,n_x,n_total//n_x)"
      ],
      "execution_count": 0,
      "outputs": []
    },
    {
      "cell_type": "code",
      "metadata": {
        "id": "ck7OoDFou53_",
        "colab_type": "code",
        "colab": {}
      },
      "source": [
        "#Memprediksi probalititas keberadaaan lahan sawah padi terhadap gambar yang telah dicacah \n",
        "#dan kembali pada gambar original\n",
        "predictions = model.predict(patches)\n",
        "#print(predictions.shape)\n",
        "#print(predictions)\n",
        "paddy = np.reshape(predictions,(n_total//n_x,n_x))\n",
        "paddy = np.rot90(paddy)\n",
        "paddy = np.flip(paddy,axis=0)\n",
        "#Array pada gambar diperbesar menggunakan interpolasi spline\n",
        "h_factor = img.shape[0]//paddy.shape[0]\n",
        "w_factor = img.shape[1]//paddy.shape[1]\n",
        "#print(h_factor)\n",
        "\n",
        "from scipy.ndimage import zoom\n",
        "zoomed = zoom(paddy,(h_factor,w_factor))\n",
        "#print(zoomed.shape)\n",
        "\n",
        "#Menampilkan hasil gambar level tertentu\n",
        "plt.imshow(img)\n",
        "plt.show()\n",
        "\n",
        "plt.imshow(img)\n",
        "plt.imshow(zoomed,alpha=0.3,vmax=1.0,vmin=0,cmap=\"jet\")\n",
        "\n",
        "plt.colorbar(fraction=0.027, pad=0.04,alpha=0)\n",
        "plt.show()"
      ],
      "execution_count": 0,
      "outputs": []
    },
    {
      "cell_type": "code",
      "metadata": {
        "id": "uCDwpCPZu8Xs",
        "colab_type": "code",
        "colab": {}
      },
      "source": [
        "#Memperoleh Nilai Akurasi data pengujian dalam piksel\n",
        "print(\"Minimal level zoomed :\", np.min(zoomed))\n",
        "print(\"Maximal level zoomed :\", np.max(zoomed))\n",
        "#Menampilkan nilai level zoomed dalam range 0 sampai 1\n",
        "normalized = (zoomed-np.min(zoomed))/(np.max(zoomed)-np.min(zoomed))\n",
        "print(\"Minimal level ternomalisasi:\", np.min(normalized))\n",
        "print(\"Maximal level ternomalisasi:\", np.max(normalized))\n",
        "print('')\n",
        "#Menghitung banyaknya piksel\n",
        "#Tingkatan level warna dari 0 sampai 1 yang mencapai bentuk sawah adalah 0.5 (Nilai diantara 0 dan 1)\n",
        "banyakpiksel=(normalized>0.5).sum()\n",
        "akurasi=((normalized>0.5).sum()*100/(normalized<1).sum())\n",
        "print(\"Banyaknya piksel yang terlihat sawah :\", (banyakpiksel))\n",
        "print(\"Akurasi dalam piksel (100%) :\", (akurasi))"
      ],
      "execution_count": 0,
      "outputs": []
    },
    {
      "cell_type": "markdown",
      "metadata": {
        "id": "im5PXk_fu-rV",
        "colab_type": "text"
      },
      "source": [
        "**Akurasi Gambar Pengujian dengan Bukan/Atau Selain Sawah**"
      ]
    },
    {
      "cell_type": "code",
      "metadata": {
        "id": "wybceK_7vDH9",
        "colab_type": "code",
        "colab": {}
      },
      "source": [
        "#Membaca Gambar Test Data dan Menampilkannya\n",
        "img_path11 = \"data/paddy/test/Jawa/o153.jpg\"\n",
        "img11 = load_img(img_path11)\n",
        "img11 = img_to_array(img11)/255\n",
        "plt.imshow(img11)\n",
        "plt.show()\n",
        "\n",
        "#Membuat subimages dengan patches menggunkan metode sliding windows\n",
        "patches11 = []\n",
        "windows11 = sw.generate(img11, sw.DimOrder.HeightWidthChannel, 56, 0.6)\n",
        "for i,window in enumerate(windows11):\n",
        "    _img11 = img11[window.indices()]\n",
        "    patches11.append(_img11)\n",
        "patches11 = np.array(patches11)\n",
        "\n",
        "#Mengecek total gambar dan banyaknya gambar yang terpasang pada height direction, maupun width direction\n",
        "n_total11 = len(windows11)\n",
        "_x11 = 0\n",
        "for i,window in enumerate(windows11):\n",
        "    if _x != window.x:\n",
        "        n_x11 = i\n",
        "        print(n_x11)\n",
        "        break\n",
        "    _x = window.x\n",
        "\n",
        "\n",
        "print(n_total11,n_x11,n_total11//n_x11)"
      ],
      "execution_count": 0,
      "outputs": []
    },
    {
      "cell_type": "code",
      "metadata": {
        "id": "LajCk1GCvDy_",
        "colab_type": "code",
        "colab": {}
      },
      "source": [
        "#Memprediksi probalititas keberadaaan lahan sawah padi terhadap gambar yang telah dicacah \n",
        "#dan kembali pada gambar original\n",
        "predictions11 = model.predict(patches11)\n",
        "#print(predictions.shape)\n",
        "#print(predictions)\n",
        "paddy11 = np.reshape(predictions11,(n_total11//n_x11,n_x11))\n",
        "paddy11 = np.rot90(paddy11)\n",
        "paddy11 = np.flip(paddy11,axis=0)\n",
        "#Array pada gambar diperbesar menggunakan interpolasi spline\n",
        "h_factor11 = img11.shape[0]//paddy11.shape[0]\n",
        "w_factor11 = img11.shape[1]//paddy11.shape[1]\n",
        "#print(h_factor)\n",
        "\n",
        "from scipy.ndimage import zoom\n",
        "zoomed11 = zoom(paddy11,(h_factor11,w_factor11))\n",
        "#print(zoomed.shape)\n",
        "\n",
        "#Menampilkan hasil gambar level tertentu\n",
        "plt.imshow(img11)\n",
        "plt.show()\n",
        "\n",
        "plt.imshow(img11)\n",
        "plt.imshow(zoomed11,alpha=0.3,vmax=1.0,vmin=0,cmap=\"jet\")\n",
        "\n",
        "plt.colorbar(fraction=0.027, pad=0.04,alpha=0)\n",
        "plt.show()"
      ],
      "execution_count": 0,
      "outputs": []
    },
    {
      "cell_type": "code",
      "metadata": {
        "id": "HGUsa_lhvGSI",
        "colab_type": "code",
        "colab": {}
      },
      "source": [
        "#Memperoleh Nilai Akurasi data pengujian dalam piksel\n",
        "print(\"Minimal level zoomed :\", np.min(zoomed11))\n",
        "print(\"Maximal level zoomed :\", np.max(zoomed11))\n",
        "#Menampilkan nilai level zoomed dalam range 0 sampai 1\n",
        "normalized11 = (zoomed11-np.min(zoomed11))/(np.max(zoomed11)-np.min(zoomed11))\n",
        "print(\"Minimal level ternomalisasi:\", np.min(normalized11))\n",
        "print(\"Maximal level ternomalisasi:\", np.max(normalized11))\n",
        "print('')\n",
        "#Menghitung banyaknya piksel\n",
        "#Tingkatan level warna dari 0 sampai 1 yang mencapai bentuk sawah adalah 0.5 (Nilai diantara 0 dan 1)\n",
        "banyakpiksel11=(normalized11<0.5).sum()\n",
        "akurasi11=((normalized11<0.5).sum()*100/(normalized11<1).sum())\n",
        "print(\"Banyaknya piksel yang terlihat bukan sawah :\", (banyakpiksel11))\n",
        "print(\"Akurasi dalam piksel (100%) :\", (akurasi11))"
      ],
      "execution_count": 0,
      "outputs": []
    },
    {
      "cell_type": "markdown",
      "metadata": {
        "id": "QdHuw4WZvJVF",
        "colab_type": "text"
      },
      "source": [
        "# Evaluasi Data Pelatihan terhadap Pengujian dalam Luas Lahan"
      ]
    },
    {
      "cell_type": "code",
      "metadata": {
        "id": "Lsc5KzFPvMH4",
        "colab_type": "code",
        "colab": {}
      },
      "source": [
        "#Membaca Gambar Test Data dan Menampilkannya\n",
        "img_path22 = \"data/paddy/test/test_image/test_image1.jpg\"\n",
        "img22 = load_img(img_path22)\n",
        "img22 = img_to_array(img22)/255\n",
        "plt.imshow(img22)\n",
        "plt.show()\n",
        "\n",
        "#Membuat subimages dengan patches menggunkan metode sliding windows\n",
        "patches22 = []\n",
        "windows22 = sw.generate(img22, sw.DimOrder.HeightWidthChannel, 56, 0.6)\n",
        "for i,window in enumerate(windows22):\n",
        "    _img22 = img22[window.indices()]\n",
        "    patches22.append(_img22)\n",
        "patches22 = np.array(patches22)\n",
        "\n",
        "#Mengecek total gambar dan banyaknya gambar yang terpasang pada height direction, maupun width direction\n",
        "n_total22 = len(windows22)\n",
        "_x = 0\n",
        "for i,window in enumerate(windows22):\n",
        "    if _x != window.x:\n",
        "        n_x22 = i\n",
        "        print(n_x22)\n",
        "        break\n",
        "    _x = window.x\n",
        "\n",
        "\n",
        "print(n_total22,n_x22,n_total22//n_x22)"
      ],
      "execution_count": 0,
      "outputs": []
    },
    {
      "cell_type": "code",
      "metadata": {
        "id": "RFt8LutNAVbp",
        "colab_type": "code",
        "colab": {}
      },
      "source": [
        "print(patches.shape)"
      ],
      "execution_count": 0,
      "outputs": []
    },
    {
      "cell_type": "markdown",
      "metadata": {
        "id": "p6wKQkaDQAIv",
        "colab_type": "text"
      },
      "source": [
        "#Prediksi Gambar Individual"
      ]
    },
    {
      "cell_type": "code",
      "metadata": {
        "id": "f-RiaDEEUWQm",
        "colab_type": "code",
        "colab": {}
      },
      "source": [
        "#Memprediksi probalititas keberadaaan lahan sawah padi terhadap gambar yang telah dicacah \n",
        "#dan kembali pada gambar original\n",
        "predictions22 = model.predict(patches22)\n",
        "print(predictions22.shape)\n",
        "print(predictions22)\n",
        "\n",
        "paddy22 = np.reshape(predictions22,(n_total22//n_x22,n_x22))\n",
        "paddy22 = np.rot90(paddy22)\n",
        "paddy22 = np.flip(paddy22,axis=0)\n",
        "plt.imshow(paddy22,cmap=\"jet\")"
      ],
      "execution_count": 0,
      "outputs": []
    },
    {
      "cell_type": "markdown",
      "metadata": {
        "id": "yQ1xgDgbeGno",
        "colab_type": "text"
      },
      "source": [
        "**Catatan** :\n",
        "Bahwa setiap gambar sesuai dengan 1 piksel dari probabilitasnya, dan ukurannya tidak kompatibel dengan gambar input.\n",
        "Oleh karena itu peneliti akan menghitung faktor rasio dan mengubah ukurannya"
      ]
    },
    {
      "cell_type": "code",
      "metadata": {
        "id": "s-ZCEqv5UWTb",
        "colab_type": "code",
        "colab": {}
      },
      "source": [
        "#Array pada gambar diperbesar menggunakan interpolasi spline\n",
        "h_factor22 = img22.shape[0]//paddy22.shape[0]\n",
        "w_factor22 = img22.shape[1]//paddy22.shape[1]\n",
        "print(h_factor22)\n",
        "\n",
        "from scipy.ndimage import zoom\n",
        "zoomed22 = zoom(paddy22,(h_factor22,w_factor22))\n",
        "\n",
        "print(zoomed22.shape)"
      ],
      "execution_count": 0,
      "outputs": []
    },
    {
      "cell_type": "code",
      "metadata": {
        "id": "2o8dGOlRUpXC",
        "colab_type": "code",
        "colab": {}
      },
      "source": [
        "#Menampilkan hasil gambar level tertentu\n",
        "plt.imshow(img22)\n",
        "plt.show()\n",
        "\n",
        "plt.imshow(img22)\n",
        "plt.imshow(zoomed22,alpha=0.3,vmax=1.0,vmin=0,cmap=\"jet\")\n",
        "\n",
        "plt.colorbar(fraction=0.027, pad=0.04,alpha=0)\n",
        "plt.show()"
      ],
      "execution_count": 0,
      "outputs": []
    },
    {
      "cell_type": "markdown",
      "metadata": {
        "id": "CZaabXW_QUNC",
        "colab_type": "text"
      },
      "source": [
        "#Menampilkan Luas Lahan Sawah yang berwarna Merah\n"
      ]
    },
    {
      "cell_type": "code",
      "metadata": {
        "id": "4JMnxZZ-QNrS",
        "colab_type": "code",
        "colab": {}
      },
      "source": [
        "plt.imshow(zoomed,alpha=1,vmax=1.0,vmin=0,cmap=\"jet\")"
      ],
      "execution_count": 0,
      "outputs": []
    },
    {
      "cell_type": "markdown",
      "metadata": {
        "id": "tHueYjcNQW3l",
        "colab_type": "text"
      },
      "source": [
        "#Menghitung luas Sawah \n"
      ]
    },
    {
      "cell_type": "code",
      "metadata": {
        "id": "KItK-zRHQYl0",
        "colab_type": "code",
        "colab": {}
      },
      "source": [
        "#Menampilkan nilai level zoomed dalam range acak\n",
        "print(\"Minimal level zoomed :\", np.min(zoomed22))\n",
        "print(\"Maximal level zoomed :\", np.max(zoomed22))"
      ],
      "execution_count": 0,
      "outputs": []
    },
    {
      "cell_type": "code",
      "metadata": {
        "id": "dCeiDFb1QasC",
        "colab_type": "code",
        "colab": {}
      },
      "source": [
        "#Menampilkan nilai level zoomed dalam range 0 sampai 1\n",
        "normalized22 = (zoomed22-np.min(zoomed22))/(np.max(zoomed22)-np.min(zoomed22))\n",
        "print(\"Minimal level ternomalisasi:\", np.min(normalized22))\n",
        "print(\"Maximal level ternomalisasi:\", np.max(normalized22))"
      ],
      "execution_count": 0,
      "outputs": []
    },
    {
      "cell_type": "code",
      "metadata": {
        "id": "w1j9GCU0Qcm_",
        "colab_type": "code",
        "colab": {}
      },
      "source": [
        "#Menghitung luas lahan sawah dalam piksel\n",
        "#Tingkatan level warna dari 0 sampai 1 yang mencapai bentuk sawah adalah 0.5 (Nilai diantara 0 dan 1)\n",
        "luaspiksel22=(normalized22>0.5).sum()\n",
        "akurasi22=((normalized22>0.5).sum()*100/(normalized22<1).sum())\n",
        "print(\"Luas lahan sawah dalam piksel :\", (luaspiksel22))\n",
        "print(\"Persentase lahan sawah dalam piksel (100%) :\", (akurasi22))"
      ],
      "execution_count": 0,
      "outputs": []
    },
    {
      "cell_type": "markdown",
      "metadata": {
        "id": "3Cy7u6Z1Qhbj",
        "colab_type": "text"
      },
      "source": [
        "\"Validitas Pengukuran di Lapangan\"\n",
        "\n",
        "![image](https://raw.githubusercontent.com/Gio1709/paddy_100m/master/Validitas%20Pengukuran.jpg)\n",
        "\n",
        "Untuk validasi/keakuratan perhitungan konversi nilai piksel pada meter, saya memiliki pengukuran secara langsung di lapangan. Objek yang digunakan sebagai pengukuran tersebut dilakukan pada **lebar jalan di depan rumah**. **Lokasi terletak di Dusun II RT 02/RW 07, Sokaraja Tengah, Kecamatan Sokaraja, Kabupaten Banyumas, Provinsi Jawa Tengah.**\n",
        "\n",
        "Dengan menggunakan **alat ukur meteran**, diperoleh lebar jalan sebesar **2,71 meter.** Dapat dilihat lebih detail pada gambar.\n",
        "\n",
        "\n"
      ]
    },
    {
      "cell_type": "markdown",
      "metadata": {
        "id": "ASFkKrWWQkir",
        "colab_type": "text"
      },
      "source": [
        "**\"Validasi Nilai Piksel ke dalam Meter\"**\n",
        "\n",
        "![image](https://raw.githubusercontent.com/Gio1709/paddy_100m/master/New%20Gambar%20100m.jpg)\n",
        "\n",
        "Dapat dilakukan dengan langkah-langkah sbb :\n",
        "1.   Menzoom/memperbesar sampel gambar (sampai batas maksimum).\n",
        "2.   Menghitung jumlah piksel, sebagai contoh pada objek lebar jalan. Dimana didapatkan lebarnya sebesar 2,71 meter melalui fitur pengukuran pada Google Earth. Begitu pula dengan validitas pengukuran di lapangan pada lokasi yang sama diperoleh lebar sebesar 2,71 meter.[Resolusi Gambar adalah 1116x632 piksel]\n",
        "3.   Pada ketinggian 100 meter, dapat dikalkulasi nilai lebar jalan dalam piksel, disini berjumlah 40 piksel. Lalu dilakukan perhitungan sebagai berikut :\n",
        "    *   Nilai Meter/Piksel(**M/P**) = **M**(meter) / **P**(piksel)\n",
        "                           = 2,71 meter / 40 piksel\n",
        "                           = 0,06775 m/p \n",
        "                           ~= 0,068 m/p\n",
        "\n",
        "Maka konversi 1 piksel menjadi meter pada gambar ini sebesar 0,068\n",
        "\n",
        "Untuk menghitung luas maka dilakukan dengan 0,068 x 0,068 = 0,004624 (m/p)^2"
      ]
    },
    {
      "cell_type": "code",
      "metadata": {
        "id": "R3Mj6wWaQeCP",
        "colab_type": "code",
        "colab": {}
      },
      "source": [
        "#Setelah diketahui luas sawah dalam piksel, kemudian menkonversi dalam meter dan hektar\n",
        "#Untuk menghitung luas maka dilakukan dengan 0,3 x 0,3 = 0,09 \n",
        "luasmtr = 0.004624*(luaspiksel22)\n",
        "luasha = (luasmtr)/10000\n",
        "print(\"Luas lahan sawah dalam meter persegi :\", (luasmtr))\n",
        "print(\"Luas lahan sawah dalam hektar :\", (luasha))"
      ],
      "execution_count": 0,
      "outputs": []
    },
    {
      "cell_type": "markdown",
      "metadata": {
        "id": "nzlV0MH9yiIF",
        "colab_type": "text"
      },
      "source": [
        "# Perbandingan Hasil Luas Lahan dengan Fitur pada Google Earth\n",
        "\n",
        "![image](https://raw.githubusercontent.com/Gio1709/paddy_100m/master/Perbandingan%20Google.jpg)\n",
        "\n",
        "Hasil yang diperoleh pada fitur pengukuran luas lahan dalam hektar pada Google Earth didapatkan hasil sebesar 0,20 Hektar. Akan tetapi perlu diperhatikan dataset pengujian/testing yang digunakan dalam pengukuran lahan sawah mesti pada ketinggian yang sama dengan dataset pelatihan/training. \n",
        "\n",
        "Pada bagian ini diketahui ketinggiannya adalah 100 meter."
      ]
    }
  ]
}